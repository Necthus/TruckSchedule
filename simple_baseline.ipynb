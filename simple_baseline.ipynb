{
 "cells": [
  {
   "cell_type": "code",
   "execution_count": null,
   "metadata": {},
   "outputs": [
    {
     "name": "stdout",
     "output_type": "stream",
     "text": [
      "RandomReturn\n"
     ]
    },
    {
     "name": "stderr",
     "output_type": "stream",
     "text": [
      "100%|██████████| 10/10 [00:30<00:00,  3.02s/it]\n"
     ]
    },
    {
     "name": "stdout",
     "output_type": "stream",
     "text": [
      "7.1489141550863256\n",
      "NearestReturn\n"
     ]
    },
    {
     "name": "stderr",
     "output_type": "stream",
     "text": [
      "100%|██████████| 1/1 [00:03<00:00,  3.25s/it]\n"
     ]
    },
    {
     "name": "stdout",
     "output_type": "stream",
     "text": [
      "11.394253358231431\n",
      "NearestPropReturn\n"
     ]
    },
    {
     "name": "stderr",
     "output_type": "stream",
     "text": [
      "100%|██████████| 10/10 [00:32<00:00,  3.30s/it]\n"
     ]
    },
    {
     "name": "stdout",
     "output_type": "stream",
     "text": [
      "7.149636046441678\n",
      "MostNeededPropReturn\n"
     ]
    },
    {
     "name": "stderr",
     "output_type": "stream",
     "text": [
      "100%|██████████| 10/10 [00:33<00:00,  3.31s/it]\n"
     ]
    },
    {
     "name": "stdout",
     "output_type": "stream",
     "text": [
      "6.878613968597726\n",
      "MostNeededReturn\n"
     ]
    },
    {
     "name": "stderr",
     "output_type": "stream",
     "text": [
      "100%|██████████| 1/1 [00:03<00:00,  3.16s/it]"
     ]
    },
    {
     "name": "stdout",
     "output_type": "stream",
     "text": [
      "8.999819527161161\n"
     ]
    },
    {
     "name": "stderr",
     "output_type": "stream",
     "text": [
      "\n"
     ]
    }
   ],
   "source": [
    "from simulator import *\n",
    "\n",
    "import random\n",
    "from utils import *\n",
    "import numpy as np\n",
    "\n",
    "\n",
    "def normalized_reciprocal(x):\n",
    "    recip = 1/(x+1)  \n",
    "    return recip / np.sum(recip)\n",
    "\n",
    "def RandomReturn(stations_features):\n",
    "    \n",
    "    stations = []\n",
    "    features = []\n",
    "    \n",
    "    for s,feature in stations_features.items():\n",
    "        \n",
    "        stations.append(s)\n",
    "        features.append(feature)\n",
    "        \n",
    "    return random.choice(stations)\n",
    "\n",
    "def NearestReturn(stations_features):\n",
    "    stations = []\n",
    "    dists = []\n",
    "    \n",
    "    for s,feature in stations_features.items():\n",
    "        \n",
    "        stations.append(s)\n",
    "        dists.append(feature[2])\n",
    "        \n",
    "    min_index = np.argmin(dists)\n",
    "    \n",
    "    return stations[min_index]\n",
    "\n",
    "def NearestPropReturn(stations_features):\n",
    "    stations = []\n",
    "    dists = []\n",
    "    \n",
    "    for s,feature in stations_features.items():\n",
    "        \n",
    "        stations.append(s)\n",
    "        dists.append(feature[2])\n",
    "        \n",
    "    dists = np.array(dists)\n",
    "    \n",
    "    prop = normalized_reciprocal(dists)\n",
    "    \n",
    "    return np.random.choice(stations,p=prop)\n",
    "\n",
    "def MostNeededReturn(stations_features):\n",
    "    stations = []\n",
    "    truck_nums = []\n",
    "    \n",
    "    for s,feature in stations_features.items():\n",
    "        \n",
    "        stations.append(s)\n",
    "        truck_nums.append(feature[1])\n",
    "        \n",
    "    min_index = np.argmin(truck_nums)\n",
    "    \n",
    "    return stations[min_index]\n",
    "\n",
    "\n",
    "def MostNeededProbReturn(stations_features):\n",
    "    stations = []\n",
    "    truck_nums = []\n",
    "    \n",
    "    for s,feature in stations_features.items():\n",
    "        \n",
    "        stations.append(s)\n",
    "        truck_nums.append(feature[1])\n",
    "        \n",
    "    truck_nums = np.array(truck_nums)\n",
    "    \n",
    "    prop = normalized_reciprocal(truck_nums)\n",
    "    \n",
    "    return np.random.choice(stations,p=prop)\n",
    "\n",
    "    \n",
    "\n",
    "\n",
    "def RunSimulator(simulator:Environment,return_method):\n",
    "        \n",
    "        simulator.log('-----------------------------------------------------')\n",
    "        simulator.log('System Begins')\n",
    "        \n",
    "        last_time = None\n",
    "        last_state = None\n",
    "        last_action = None\n",
    "        \n",
    "        sample_sequence = []\n",
    "        \n",
    "        while(1):\n",
    "        \n",
    "            stations_features,current_time,regu_reward,current_truck  = env.step()\n",
    "            \n",
    "            if last_time:\n",
    "                \n",
    "                sample_sequence.append((last_time,last_state,last_action,regu_reward))\n",
    "            \n",
    "            \n",
    "            if stations_features == None:\n",
    "                break\n",
    "                \n",
    "            last_state = stations_features\n",
    "            last_time = current_time\n",
    "                \n",
    "            action = return_method(stations_features)\n",
    "            simulator.take_action(action,current_truck)\n",
    "            \n",
    "            last_action = action\n",
    "            \n",
    "        return sample_sequence\n",
    "\n",
    "metric_dict = {}\n",
    "\n",
    "from tqdm import tqdm\n",
    "\n",
    "env = Environment(10,1,running_day=1,start_date=datetime.datetime(2024,5,2))\n",
    "\n",
    "for func in [RandomReturn,NearestReturn,NearestPropReturn,MostNeededProbReturn,MostNeededReturn]:\n",
    "    \n",
    "    \n",
    "    func_name = func.__name__\n",
    "    \n",
    "    print(func_name)\n",
    "    \n",
    "    metric_list = []\n",
    "    \n",
    "    test_num = 10\n",
    "    \n",
    "    if func == NearestReturn or func == MostNeededReturn:\n",
    "        test_num = 1\n",
    "    \n",
    "    for i in tqdm(range(test_num)):\n",
    "        \n",
    "        env.reset()\n",
    "        \n",
    "        \n",
    "        RunSimulator(env,func)\n",
    "        \n",
    "        metric_list.append(env.count_time_per_fang())\n",
    "        \n",
    "    \n",
    "    m = np.mean(metric_list)\n",
    "    print(m)\n",
    "    metric_dict[func_name] = m\n",
    "    \n",
    "    \n",
    "\n"
   ]
  },
  {
   "cell_type": "code",
   "execution_count": 2,
   "metadata": {},
   "outputs": [
    {
     "data": {
      "text/plain": [
       "{'RandomReturn': np.float64(7.1489141550863256),\n",
       " 'NearestReturn': np.float64(11.394253358231431),\n",
       " 'NearestPropReturn': np.float64(7.149636046441678),\n",
       " 'MostNeededPropReturn': np.float64(6.878613968597726),\n",
       " 'MostNeededReturn': np.float64(8.999819527161161)}"
      ]
     },
     "execution_count": 2,
     "metadata": {},
     "output_type": "execute_result"
    }
   ],
   "source": [
    "metric_dict"
   ]
  },
  {
   "cell_type": "code",
   "execution_count": 2,
   "metadata": {},
   "outputs": [
    {
     "data": {
      "text/plain": [
       "{'RandomReturn': np.float64(5.703771375029281),\n",
       " 'NearestReturn': np.float64(12.116186460529399),\n",
       " 'NearestPropReturn': np.float64(5.903849457328024),\n",
       " 'MostNeededPropReturn': np.float64(5.66532365112829),\n",
       " 'MostNeededReturn': np.float64(7.364566252830484)}"
      ]
     },
     "execution_count": 2,
     "metadata": {},
     "output_type": "execute_result"
    }
   ],
   "source": [
    "metric_dict"
   ]
  },
  {
   "cell_type": "markdown",
   "metadata": {},
   "source": [
    "5.1-5.2\n",
    "\n",
    "{'RandomReturn': np.float64(7.12410465511383),\n",
    " 'NearestReturn': np.float64(18.433530733101897),\n",
    " 'NearestPropReturn': np.float64(7.480319401970777),\n",
    " 'MostNeededPropReturn': np.float64(6.916561331974177)}"
   ]
  },
  {
   "cell_type": "markdown",
   "metadata": {},
   "source": [
    "5.2\n",
    "{'RandomReturn': np.float64(7.1489141550863256),\n",
    " 'NearestReturn': np.float64(11.394253358231431),\n",
    " 'NearestPropReturn': np.float64(7.149636046441678),\n",
    " 'MostNeededPropReturn': np.float64(6.878613968597726),\n",
    " 'MostNeededReturn': np.float64(8.999819527161161)}"
   ]
  },
  {
   "cell_type": "markdown",
   "metadata": {},
   "source": [
    "5.1\n",
    "\n",
    "{'RandomReturn': np.float64(5.703771375029281),\n",
    " 'NearestReturn': np.float64(12.116186460529399),\n",
    " 'NearestPropReturn': np.float64(5.903849457328024),\n",
    " 'MostNeededPropReturn': np.float64(5.66532365112829),\n",
    " 'MostNeededReturn': np.float64(7.364566252830484)}"
   ]
  }
 ],
 "metadata": {
  "kernelspec": {
   "display_name": "GCL4SR",
   "language": "python",
   "name": "python3"
  },
  "language_info": {
   "codemirror_mode": {
    "name": "ipython",
    "version": 3
   },
   "file_extension": ".py",
   "mimetype": "text/x-python",
   "name": "python",
   "nbconvert_exporter": "python",
   "pygments_lexer": "ipython3",
   "version": "3.12.4"
  }
 },
 "nbformat": 4,
 "nbformat_minor": 2
}
