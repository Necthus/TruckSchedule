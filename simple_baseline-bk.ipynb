{
 "cells": [
  {
   "cell_type": "code",
   "execution_count": null,
   "metadata": {},
   "outputs": [
    {
     "name": "stdout",
     "output_type": "stream",
     "text": [
      "RandomReturn\n"
     ]
    },
    {
     "name": "stderr",
     "output_type": "stream",
     "text": [
      "100%|██████████| 10/10 [00:30<00:00,  3.02s/it]\n"
     ]
    },
    {
     "name": "stdout",
     "output_type": "stream",
     "text": [
      "7.1489141550863256\n",
      "NearestReturn\n"
     ]
    },
    {
     "name": "stderr",
     "output_type": "stream",
     "text": [
      "100%|██████████| 1/1 [00:03<00:00,  3.25s/it]\n"
     ]
    },
    {
     "name": "stdout",
     "output_type": "stream",
     "text": [
      "11.394253358231431\n",
      "NearestPropReturn\n"
     ]
    },
    {
     "name": "stderr",
     "output_type": "stream",
     "text": [
      "100%|██████████| 10/10 [00:32<00:00,  3.30s/it]\n"
     ]
    },
    {
     "name": "stdout",
     "output_type": "stream",
     "text": [
      "7.149636046441678\n",
      "MostNeededPropReturn\n"
     ]
    },
    {
     "name": "stderr",
     "output_type": "stream",
     "text": [
      "100%|██████████| 10/10 [00:33<00:00,  3.31s/it]\n"
     ]
    },
    {
     "name": "stdout",
     "output_type": "stream",
     "text": [
      "6.878613968597726\n",
      "MostNeededReturn\n"
     ]
    },
    {
     "name": "stderr",
     "output_type": "stream",
     "text": [
      "100%|██████████| 1/1 [00:03<00:00,  3.16s/it]"
     ]
    },
    {
     "name": "stdout",
     "output_type": "stream",
     "text": [
      "8.999819527161161\n"
     ]
    },
    {
     "name": "stderr",
     "output_type": "stream",
     "text": [
      "\n"
     ]
    }
   ],
   "source": [
    "from simulator import *\n",
    "\n",
    "import random\n",
    "from utils import *\n",
    "import numpy as np\n",
    "\n",
    "\n",
    "def normalized_reciprocal(x):\n",
    "    recip = 1/(x+1)  \n",
    "    return recip / np.sum(recip)\n",
    "\n",
    "def RandomReturn(stations_features):\n",
    "    \n",
    "    stations = []\n",
    "    features = []\n",
    "    \n",
    "    for s,feature in stations_features.items():\n",
    "        \n",
    "        stations.append(s)\n",
    "        features.append(feature)\n",
    "        \n",
    "    return random.choice(stations)\n",
    "\n",
    "def NearestReturn(stations_features):\n",
    "    stations = []\n",
    "    dists = []\n",
    "    \n",
    "    for s,feature in stations_features.items():\n",
    "        \n",
    "        stations.append(s)\n",
    "        dists.append(feature[2])\n",
    "        \n",
    "    min_index = np.argmin(dists)\n",
    "    \n",
    "    return stations[min_index]\n",
    "\n",
    "def NearestPropReturn(stations_features):\n",
    "    stations = []\n",
    "    dists = []\n",
    "    \n",
    "    for s,feature in stations_features.items():\n",
    "        \n",
    "        stations.append(s)\n",
    "        dists.append(feature[2])\n",
    "        \n",
    "    dists = np.array(dists)\n",
    "    \n",
    "    prop = normalized_reciprocal(dists)\n",
    "    \n",
    "    return np.random.choice(stations,p=prop)\n",
    "\n",
    "def MostNeededReturn(stations_features):\n",
    "    stations = []\n",
    "    truck_nums = []\n",
    "    \n",
    "    for s,feature in stations_features.items():\n",
    "        \n",
    "        stations.append(s)\n",
    "        truck_nums.append(feature[1])\n",
    "        \n",
    "    min_index = np.argmin(truck_nums)\n",
    "    \n",
    "    return stations[min_index]\n",
    "\n",
    "\n",
    "def MostNeededProbReturn(stations_features):\n",
    "    stations = []\n",
    "    truck_nums = []\n",
    "    \n",
    "    for s,feature in stations_features.items():\n",
    "        \n",
    "        stations.append(s)\n",
    "        truck_nums.append(feature[1])\n",
    "        \n",
    "    truck_nums = np.array(truck_nums)\n",
    "    \n",
    "    prop = normalized_reciprocal(truck_nums)\n",
    "    \n",
    "    return np.random.choice(stations,p=prop)\n",
    "\n",
    "    \n",
    "\n",
    "\n",
    "def RunSimulator(simulator:Environment,return_method):\n",
    "        \n",
    "        simulator.log('-----------------------------------------------------')\n",
    "        simulator.log('System Begins')\n",
    "        \n",
    "        last_time = None\n",
    "        last_state = None\n",
    "        last_action = None\n",
    "        \n",
    "        sample_sequence = []\n",
    "        \n",
    "        while(1):\n",
    "        \n",
    "            stations_features,current_time,regu_reward,current_truck  = env.step()\n",
    "            \n",
    "            if last_time:\n",
    "                \n",
    "                sample_sequence.append((last_time,last_state,last_action,regu_reward))\n",
    "            \n",
    "            \n",
    "            if stations_features == None:\n",
    "                break\n",
    "                \n",
    "            last_state = stations_features\n",
    "            last_time = current_time\n",
    "                \n",
    "            action = return_method(stations_features)\n",
    "            simulator.take_action(action,current_truck)\n",
    "            \n",
    "            last_action = action\n",
    "            \n",
    "        return sample_sequence\n",
    "\n",
    "metric_dict = {}\n",
    "\n",
    "from tqdm import tqdm\n",
    "\n",
    "env = Environment(10,1,running_day=1,start_date=datetime.datetime(2024,5,2))\n",
    "\n",
    "for func in [RandomReturn,NearestReturn,NearestPropReturn,MostNeededProbReturn,MostNeededReturn]:\n",
    "    \n",
    "    \n",
    "    func_name = func.__name__\n",
    "    \n",
    "    print(func_name)\n",
    "    \n",
    "    metric_list = []\n",
    "    \n",
    "    test_num = 10\n",
    "    \n",
    "    if func == NearestReturn or func == MostNeededReturn:\n",
    "        test_num = 1\n",
    "    \n",
    "    for i in tqdm(range(test_num)):\n",
    "        \n",
    "        env.reset()\n",
    "        \n",
    "        \n",
    "        RunSimulator(env,func)\n",
    "        \n",
    "        metric_list.append(env.count_time_per_fang())\n",
    "        \n",
    "    \n",
    "    m = np.mean(metric_list)\n",
    "    print(m)\n",
    "    metric_dict[func_name] = m\n",
    "    \n",
    "    \n",
    "\n"
   ]
  },
  {
   "cell_type": "code",
   "execution_count": 2,
   "metadata": {},
   "outputs": [
    {
     "data": {
      "text/plain": [
       "{'RandomReturn': np.float64(7.1489141550863256),\n",
       " 'NearestReturn': np.float64(11.394253358231431),\n",
       " 'NearestPropReturn': np.float64(7.149636046441678),\n",
       " 'MostNeededPropReturn': np.float64(6.878613968597726),\n",
       " 'MostNeededReturn': np.float64(8.999819527161161)}"
      ]
     },
     "execution_count": 2,
     "metadata": {},
     "output_type": "execute_result"
    }
   ],
   "source": [
    "metric_dict"
   ]
  },
  {
   "cell_type": "code",
   "execution_count": 2,
   "metadata": {},
   "outputs": [
    {
     "data": {
      "text/plain": [
       "{'RandomReturn': np.float64(5.703771375029281),\n",
       " 'NearestReturn': np.float64(12.116186460529399),\n",
       " 'NearestPropReturn': np.float64(5.903849457328024),\n",
       " 'MostNeededPropReturn': np.float64(5.66532365112829),\n",
       " 'MostNeededReturn': np.float64(7.364566252830484)}"
      ]
     },
     "execution_count": 2,
     "metadata": {},
     "output_type": "execute_result"
    }
   ],
   "source": [
    "metric_dict"
   ]
  },
  {
   "cell_type": "markdown",
   "metadata": {},
   "source": [
    "5.1-5.2\n",
    "\n",
    "{'RandomReturn': np.float64(7.12410465511383),\n",
    " 'NearestReturn': np.float64(18.433530733101897),\n",
    " 'NearestPropReturn': np.float64(7.480319401970777),\n",
    " 'MostNeededPropReturn': np.float64(6.916561331974177)}"
   ]
  },
  {
   "cell_type": "markdown",
   "metadata": {},
   "source": [
    "5.2\n",
    "{'RandomReturn': np.float64(7.1489141550863256),\n",
    " 'NearestReturn': np.float64(11.394253358231431),\n",
    " 'NearestPropReturn': np.float64(7.149636046441678),\n",
    " 'MostNeededPropReturn': np.float64(6.878613968597726),\n",
    " 'MostNeededReturn': np.float64(8.999819527161161)}"
   ]
  },
  {
   "cell_type": "markdown",
   "metadata": {},
   "source": [
    "5.1\n",
    "\n",
    "{'RandomReturn': np.float64(5.703771375029281),\n",
    " 'NearestReturn': np.float64(12.116186460529399),\n",
    " 'NearestPropReturn': np.float64(5.903849457328024),\n",
    " 'MostNeededPropReturn': np.float64(5.66532365112829),\n",
    " 'MostNeededReturn': np.float64(7.364566252830484)}"
   ]
  },
  {
   "cell_type": "code",
   "execution_count": 2,
   "metadata": {},
   "outputs": [
    {
     "name": "stdout",
     "output_type": "stream",
     "text": [
      "Order ID: 1649296900021358594, Station ID: 1631470956459929601\n"
     ]
    }
   ],
   "source": [
    "import pandas as pd\n",
    "\n",
    "\n",
    "# 读取 CSV 文件\n",
    "df = pd.read_csv('shenzhen_orders_0324.csv', dtype=str)\n",
    "\n",
    "# 提取 order_id 和 station_id，转换为字典\n",
    "order_station_dict = df.set_index('order_id')['station_id'].to_dict()\n",
    "\n",
    "# 打印结果\n",
    "for k,v in order_station_dict.items():\n",
    "    print(f\"Order ID: {k}, Station ID: {v}\")\n",
    "    break"
   ]
  },
  {
   "cell_type": "code",
   "execution_count": 23,
   "metadata": {},
   "outputs": [
    {
     "name": "stdout",
     "output_type": "stream",
     "text": [
      "Dispatchs can satisfy the orders, dispatchs and needs are equal.\n",
      "{'waiting': 0, 'overtime': 17.5, 'discontinuity': 940000}\n",
      "940017.5\n",
      "2375275.0\n",
      "91\n",
      "83001.60000000015\n",
      "0\n"
     ]
    }
   ],
   "source": [
    "from component import *\n",
    "import importlib\n",
    "import simulator\n",
    "importlib.reload(simulator)\n",
    "from simulator import *\n",
    "\n",
    "def return_dispatch_list(orders:List[Order]):\n",
    "    \n",
    "    dispatch_list :List[Dispatch]= []\n",
    "    \n",
    "    for order in orders:\n",
    "        order_id = order.oid\n",
    "        from_sid = order_station_dict[order_id]\n",
    "        \n",
    "        for _ in range(order.n_need):\n",
    "            new_dispatch = Dispatch(order_id,order.pid,from_sid,order.plan_arrive_time-datetime.timedelta(hours=0),from_sid)\n",
    "            dispatch_list.append(new_dispatch)\n",
    "        \n",
    "        \n",
    "    dispatch_list.sort(key=lambda x: x.dispatch_time)\n",
    "    \n",
    "    return dispatch_list\n",
    "    \n",
    "    \n",
    "def external_method_for_random_need(current_order:Order):\n",
    "    \n",
    "    dispatch_list = []\n",
    "    \n",
    "    oid = current_order.oid\n",
    "    \n",
    "    from_sid = order_station_dict[oid]\n",
    "    \n",
    "    truck_need = current_order.n_need\n",
    "    \n",
    "    for i in range(truck_need):\n",
    "        d = Dispatch(oid,current_order.pid,from_sid,current_order.plan_arrive_time,from_sid)\n",
    "        dispatch_list.append(d)    \n",
    "    \n",
    "    return dispatch_list\n",
    "\n",
    "from simulator import *\n",
    "\n",
    "\n",
    "\n",
    "env = Environment(50,4,running_day=1,start_date=datetime.datetime(2024,5,1))\n",
    "\n",
    "dispatch_list_for_fixed_need = return_dispatch_list(env.unscheduled_orders.values())\n",
    "\n",
    "\n",
    "env.continuous_running(dispatchs=dispatch_list_for_fixed_need,external_method=external_method_for_random_need)\n",
    "\n",
    "print(env.penalty)\n",
    "print(sum(env.penalty.values()))\n",
    "print(env.revenue)\n",
    "print(env.fail_dispatch)\n",
    "print(env.cost)\n",
    "print(env.fail_order)"
   ]
  },
  {
   "cell_type": "code",
   "execution_count": 14,
   "metadata": {},
   "outputs": [
    {
     "data": {
      "text/plain": [
       "{'680807003891019801': {'1631470956459929601': 18.5},\n",
       " '706166232260612241': {'738115065915781403': 21.5,\n",
       "  '1631470956459929601': 12.5,\n",
       "  '1663425866110771202': 15.5,\n",
       "  '1673235371280293890': 14.5,\n",
       "  '726724594072978268': 32.5,\n",
       "  '1694634526754066434': 17.0},\n",
       " '833051041372312567': {'738115065915781403': 13.5,\n",
       "  '1631470956459929601': 4.5,\n",
       "  '1672793905165828098': 25.0,\n",
       "  '1703960484185190401': 24.0,\n",
       "  '1694634526754066434': 16.0},\n",
       " '680006810102620796': {'1631470956459929601': 11.0,\n",
       "  '1673235371280293890': 13.0},\n",
       " '809026317189507013': {'1631470956459929601': 15.5,\n",
       "  '1663425866110771202': 21.5,\n",
       "  '1673235371280293890': 17.5,\n",
       "  '1694634526754066434': 23.0,\n",
       "  '755721905675469311': 26.0,\n",
       "  '1782242566936788994': 21.5},\n",
       " '820716812386804551': {'754429282184478753': 8.0,\n",
       "  '875336708021883376': 1.5,\n",
       "  '1686320649152536578': 6.0,\n",
       "  '755721905675469311': 7.0},\n",
       " '737416575015256065': {'1673235371280293890': 13.0},\n",
       " '781979182673667513': {'875336708021883376': 3.0,\n",
       "  '1675689651580084225': 2.5,\n",
       "  '1686320649152536578': 10.5},\n",
       " '787690087260620998': {'755721905675469311': 13.0},\n",
       " '680006810098426406': {'755721905675469311': 11.5},\n",
       " '813079344774959120': {'755721905675469311': 18.0,\n",
       "  '1683755586971242498': 23.5},\n",
       " '774314505789613193': {'1631470956459929601': 18.5,\n",
       "  '1673235371280293890': 19.5,\n",
       "  '1684498296029155329': 25.5},\n",
       " '680006810102620760': {'755721905675469311': 12.5,\n",
       "  '1663425866110771202': 11.0},\n",
       " '709076948399374977': {'755721905675469311': 11.5,\n",
       "  '1663425866110771202': 12.0,\n",
       "  '1698883759877332993': 7.0,\n",
       "  '1696062045342986241': 19.0},\n",
       " '858037705496490216': {'755721905675469311': 7.0,\n",
       "  '1686320649152536578': 4.0,\n",
       "  '1696062045342986241': 19.5,\n",
       "  '1698883759877332993': 13.5},\n",
       " '680006810106814467': {'1663425866110771202': 3.5,\n",
       "  '1694634526754066434': 8.0},\n",
       " '680006810098426442': {'755721905675469311': 9.5},\n",
       " '680006810098426428': {'1683755586971242498': 5.5,\n",
       "  '1696062045342986241': 9.5},\n",
       " '863095625661666127': {'726724594072978268': 28.5,\n",
       "  '1701841396001579010': 29.0},\n",
       " '809113710869471246': {'1684498296029155329': 4.0,\n",
       "  '1696062045342986241': 10.0,\n",
       "  '755721905675469311': 3.5},\n",
       " '680006810102620766': {'1673235371280293890': 15.5,\n",
       "  '1663425866110771202': 20.5,\n",
       "  '1694634526754066434': 22.0,\n",
       "  '1631470956459929601': 13.5},\n",
       " '688680112316604418': {'1684498296029155329': 15.5},\n",
       " '680006810102620808': {'754429282184478753': 11.5,\n",
       "  '1663425866110771202': 12.0},\n",
       " '769529942567313652': {'755721905675469311': 8.5,\n",
       "  '1675689651580084225': 3.5,\n",
       "  '1686320649152536578': 15.5},\n",
       " '680006810094231641': {'1684498296029155329': 16.5},\n",
       " '830891025072717824': {'726724594072978268': 10.0,\n",
       "  '740610164377510154': 11.0,\n",
       "  '1672793905165828098': 11.5},\n",
       " '883059259275753126': {'755721905675469311': 6.5,\n",
       "  '1686320649152536578': 3.5,\n",
       "  '875336708021883376': 4.0,\n",
       "  '1696062045342986241': 19.0,\n",
       "  '1698883759877332993': 12.0},\n",
       " '680006810106814507': {'719204499494945874': 4.5},\n",
       " '680006810111008880': {'1683755586971242498': 18.0,\n",
       "  '719204845147540861': 13.5,\n",
       "  '1745652324610736130': 21.0,\n",
       "  '1698883759877332993': 8.0},\n",
       " '1655392172437471233': {'1703960484185190401': 21.5},\n",
       " '706166232260612237': {'1663425866110771202': 12.0,\n",
       "  '754429282184478753': 11.5},\n",
       " '749241657207267377': {'1663425866110771202': 21.0},\n",
       " '890247327783252021': {'740610164377510154': 3.0,\n",
       "  '1703960484185190401': 5.5,\n",
       "  '844137252899878353': 2.5,\n",
       "  '751793100959345572': 4.5,\n",
       "  '726725000148873341': 5.0,\n",
       "  '1631470956459929601': 30.0},\n",
       " '771422771870937733': {'875336708021883376': 8.0,\n",
       "  '817842322489260752': 3.5,\n",
       "  '755721905675469311': 14.5,\n",
       "  '1782242566936788994': 15.0},\n",
       " '797259715452215898': {'1683755586971242498': 17.5,\n",
       "  '1698883759877332993': 8.5},\n",
       " '716322831410942040': {'1675689651580084225': 1.0,\n",
       "  '1698883759877332993': 8.5,\n",
       "  '875336708021883376': 4.5},\n",
       " '680006810102620770': {'1675758041380331521': 4.0},\n",
       " '763476819537391790': {'844137252899878353': 10.0},\n",
       " '680006810102620778': {'719204499494945874': 10.0,\n",
       "  '1696062045342986241': 12.5},\n",
       " '724348402665714144': {'1631470956459929601': 12.0,\n",
       "  '726724594072978268': 24.0,\n",
       "  '1694634526754066434': 8.5,\n",
       "  '1703960484185190401': 24.5},\n",
       " '868581320450670593': {'1698883759877332993': 21.5,\n",
       "  '1698229777311932417': 3.0},\n",
       " '793798976666091678': {'875336708021883376': 4.5},\n",
       " '892041295667729525': {'1730143020813438978': 24.0,\n",
       "  '792763260305761702': 22.5,\n",
       "  '793871084029010183': 24.5,\n",
       "  '1737726211635994625': 11.5},\n",
       " '805113225627856897': {'726724594072978268': 29.0},\n",
       " '797289623771558620': {'817842322489260752': 12.0},\n",
       " '913699232190354383': {'740610164377510154': 18.0,\n",
       "  '1703960484185190401': 25.5,\n",
       "  '726725000148873341': 26.0},\n",
       " '680006810102620784': {'1683755586971242498': 9.5},\n",
       " '834727282420566530': {'1683755586971242498': 8.5,\n",
       "  '1745652324610736130': 5.5},\n",
       " '751046850710315950': {'751793100959345572': 24.5,\n",
       "  '1672793905165828098': 24.5},\n",
       " '944661718309584181': {'1745652324610736130': 19.5,\n",
       "  '1683755586971242498': 16.5},\n",
       " '680006810111008838': {'1745652324610736130': 23.5,\n",
       "  '755721905675469311': 15.0},\n",
       " '883518949403146052': {'1745652324610736130': 16.5,\n",
       "  '1683755586971242498': 13.5,\n",
       "  '1698883759877332993': 10.5},\n",
       " '935843945102254933': {'1683755586971242498': 1.5,\n",
       "  '1745652324610736130': 4.5,\n",
       "  '1696062045342986241': 9.5},\n",
       " '680006810098426456': {'755721905675469311': 10.0},\n",
       " '953626534948750817': {'726725000148873341': 23.5},\n",
       " '977393881907968041': {'1698229777311932417': 2.0,\n",
       "  '1782242566936788994': 14.5},\n",
       " '680006810106814511': {'1631470956459929601': 4.0},\n",
       " '913805584590069989': {'1778403021227503617': 9.5},\n",
       " '917804125343867117': {'1675689651580084225': 8.5},\n",
       " '680006810102620802': {'1698883759877332993': 7.0},\n",
       " '891620791899198526': {'755721905675469311': 14.5,\n",
       "  '1782242566936788994': 15.0},\n",
       " '976882123380421119': {'799704482974875649': 8.0},\n",
       " '883434104744325128': {'1698883759877332993': 5.5},\n",
       " '949978051637397092': {'1745652324610736130': 32.5},\n",
       " '943422973782770162': {'1793108185511309313': 5.0,\n",
       "  '1673235371280293890': 5.0},\n",
       " '860891465247782525': {'817842322489260752': 8.0},\n",
       " '862696953631408146': {'817012601010639199': 3.5, '1795364692931813378': 8.0},\n",
       " '951083183896716754': {'726724594072978268': 7.5}}"
      ]
     },
     "execution_count": 14,
     "metadata": {},
     "output_type": "execute_result"
    }
   ],
   "source": [
    "env.interaction"
   ]
  },
  {
   "cell_type": "code",
   "execution_count": 41,
   "metadata": {},
   "outputs": [
    {
     "data": {
      "text/plain": [
       "{'waiting': 4119.0768, 'overtime': 41937.25, 'discontinuity': 0}"
      ]
     },
     "execution_count": 41,
     "metadata": {},
     "output_type": "execute_result"
    }
   ],
   "source": [
    "env.penalty"
   ]
  }
 ],
 "metadata": {
  "kernelspec": {
   "display_name": "GCL4SR",
   "language": "python",
   "name": "python3"
  },
  "language_info": {
   "codemirror_mode": {
    "name": "ipython",
    "version": 3
   },
   "file_extension": ".py",
   "mimetype": "text/x-python",
   "name": "python",
   "nbconvert_exporter": "python",
   "pygments_lexer": "ipython3",
   "version": "3.12.4"
  }
 },
 "nbformat": 4,
 "nbformat_minor": 2
}
