{
 "cells": [
  {
   "cell_type": "code",
   "execution_count": 73,
   "metadata": {},
   "outputs": [
    {
     "name": "stdout",
     "output_type": "stream",
     "text": [
      "Parameter name: sn.0.weight\n",
      "Parameter value: Parameter containing:\n",
      "tensor([[-0.0028,  0.2028, -0.3111, -0.2782, -0.1456,  0.1014, -0.0075],\n",
      "        [ 0.2997, -0.0397,  0.0939, -0.1203, -0.0743, -0.3611, -0.2503],\n",
      "        [-0.1510,  0.0074,  0.1454,  0.2185, -0.2705, -0.1559,  0.1610],\n",
      "        [ 0.2996, -0.0930,  0.2671, -0.0769,  0.0391,  0.3552, -0.3372],\n",
      "        [-0.2411, -0.0901, -0.1423,  0.3028, -0.2310, -0.1833, -0.2899],\n",
      "        [-0.3444, -0.2267,  0.3202,  0.1536,  0.1694,  0.0261, -0.1740],\n",
      "        [ 0.0639, -0.3529, -0.2731, -0.1949,  0.2385,  0.2216, -0.1676],\n",
      "        [-0.0156,  0.2462,  0.3815,  0.1648,  0.0643,  0.2412, -0.2511],\n",
      "        [ 0.0704, -0.2930, -0.2620, -0.1953,  0.1710,  0.1520, -0.2239],\n",
      "        [ 0.1084,  0.2127, -0.0432,  0.0214,  0.1006,  0.2277,  0.3412],\n",
      "        [-0.2876, -0.1443,  0.1442,  0.3082,  0.3148,  0.3421,  0.0996],\n",
      "        [-0.3287,  0.0348, -0.2365, -0.3522,  0.3358,  0.2874, -0.3770],\n",
      "        [ 0.0707, -0.0637, -0.0622, -0.1730,  0.1453, -0.2239,  0.1386],\n",
      "        [ 0.1911,  0.2645,  0.1352, -0.3802, -0.2452,  0.1887,  0.0791],\n",
      "        [-0.2906, -0.2234,  0.3513,  0.2621, -0.1786, -0.0868, -0.3360],\n",
      "        [-0.0109, -0.2977, -0.3067, -0.0360,  0.0658, -0.1593,  0.2092],\n",
      "        [-0.2300,  0.3368,  0.2529, -0.3248, -0.0941,  0.0171,  0.0551],\n",
      "        [ 0.0896,  0.1422,  0.0165, -0.1905,  0.1788, -0.3626, -0.2240],\n",
      "        [-0.0946, -0.1841, -0.1322, -0.3098, -0.0804,  0.0808, -0.2462],\n",
      "        [-0.0153,  0.2644, -0.0429,  0.0141, -0.0466,  0.0847,  0.2645],\n",
      "        [ 0.3546,  0.2458,  0.3628, -0.0245, -0.3257, -0.1872,  0.2336],\n",
      "        [-0.0025, -0.1879, -0.2896, -0.3537, -0.3190, -0.0767,  0.2073],\n",
      "        [ 0.2043, -0.3645,  0.2358, -0.2958, -0.0799, -0.1533, -0.0728],\n",
      "        [-0.0742, -0.3392, -0.3263, -0.0591,  0.0049, -0.1717,  0.1424],\n",
      "        [-0.3402, -0.0316,  0.3263, -0.1603,  0.3413,  0.1369, -0.3411],\n",
      "        [ 0.2348, -0.0374, -0.1647,  0.3164, -0.2914,  0.0326, -0.1026],\n",
      "        [ 0.2669,  0.1113,  0.1857,  0.1300, -0.0766, -0.0897, -0.3377],\n",
      "        [ 0.2048,  0.3062,  0.2647, -0.2605,  0.0169, -0.2664, -0.2081],\n",
      "        [-0.2183,  0.1314, -0.1954, -0.0014, -0.0015,  0.2377, -0.2898],\n",
      "        [-0.2856, -0.2422,  0.2398, -0.1607,  0.2940,  0.1119,  0.0234],\n",
      "        [-0.0028, -0.0747,  0.0474, -0.0863, -0.0027,  0.0482, -0.2956],\n",
      "        [-0.1781,  0.3034, -0.2966, -0.0261,  0.3967,  0.1532,  0.0059],\n",
      "        [-0.3275,  0.1872, -0.2692, -0.1073, -0.1268, -0.0560,  0.0041],\n",
      "        [ 0.3158,  0.0416,  0.3338,  0.2321, -0.2525,  0.1773, -0.2433],\n",
      "        [-0.1636,  0.1166,  0.1294,  0.2841, -0.1081, -0.0078,  0.1701],\n",
      "        [-0.3577,  0.2706, -0.3162,  0.0031, -0.0582, -0.2058,  0.0723],\n",
      "        [ 0.3125, -0.1105, -0.2244, -0.1398, -0.3746,  0.1706, -0.1815],\n",
      "        [-0.2483, -0.2236,  0.2129,  0.2045,  0.2763,  0.1453, -0.1022],\n",
      "        [-0.1062,  0.1178,  0.3157,  0.1264, -0.1653, -0.1724, -0.3757],\n",
      "        [ 0.0774, -0.2059, -0.3329,  0.3463, -0.2316, -0.0507,  0.0848],\n",
      "        [ 0.0154, -0.2600, -0.3100,  0.2883,  0.0478,  0.3222, -0.1020],\n",
      "        [ 0.1113, -0.0864, -0.0168, -0.2302,  0.1278,  0.1195, -0.0078],\n",
      "        [-0.0850, -0.2330,  0.2614, -0.2814,  0.1548, -0.1271, -0.1824],\n",
      "        [ 0.0587, -0.1839,  0.0888,  0.0852, -0.2669,  0.0601,  0.1440],\n",
      "        [ 0.1496, -0.0476, -0.3099, -0.0583,  0.1313, -0.1379,  0.1435],\n",
      "        [ 0.2461, -0.1902,  0.0066,  0.1560,  0.0437,  0.0253,  0.0258],\n",
      "        [-0.2930,  0.0235,  0.2576,  0.3392,  0.2081,  0.0589,  0.2004],\n",
      "        [-0.1820, -0.3172, -0.3309,  0.3667,  0.2263, -0.2477,  0.1768],\n",
      "        [ 0.2818,  0.3835,  0.3347,  0.2936, -0.0729, -0.1410,  0.2861],\n",
      "        [ 0.2078, -0.2211,  0.3435,  0.1900,  0.2200, -0.2447,  0.0848],\n",
      "        [-0.1356,  0.3004, -0.0627,  0.1559,  0.0807,  0.1511, -0.1542],\n",
      "        [ 0.1843, -0.2640,  0.0854, -0.2557, -0.3729, -0.3035,  0.2984],\n",
      "        [ 0.2045,  0.3485,  0.2967, -0.3436, -0.2579, -0.0611, -0.2455],\n",
      "        [ 0.2625, -0.2857, -0.1844, -0.3651, -0.2146,  0.3109,  0.3095],\n",
      "        [ 0.2600,  0.2987,  0.3216, -0.1049,  0.1768,  0.3208,  0.0987],\n",
      "        [ 0.3625,  0.1885,  0.2208, -0.1468,  0.2021,  0.0642, -0.0696],\n",
      "        [-0.2094, -0.2178, -0.2949,  0.2444,  0.2549, -0.0349, -0.1948],\n",
      "        [ 0.2777,  0.2441,  0.0305, -0.1865,  0.3329,  0.1401, -0.3014],\n",
      "        [ 0.3652,  0.2811, -0.1421,  0.2070, -0.2286, -0.0506,  0.3457],\n",
      "        [ 0.0354, -0.2352, -0.0954, -0.0716, -0.0948,  0.0520,  0.3794],\n",
      "        [ 0.0163, -0.2263,  0.0236,  0.1786,  0.2016, -0.3508, -0.0902],\n",
      "        [-0.2809, -0.1613,  0.1362, -0.2684,  0.1405,  0.3208,  0.0248],\n",
      "        [-0.2519, -0.1354,  0.0825, -0.2881,  0.1878, -0.3431, -0.3633],\n",
      "        [-0.3673, -0.0706,  0.2603, -0.3516,  0.3142, -0.1512,  0.1107]],\n",
      "       requires_grad=True)\n",
      "--------------------------------------------------\n",
      "Parameter name: sn.0.bias\n",
      "Parameter value: Parameter containing:\n",
      "tensor([ 0.0172, -0.3469,  0.3108,  0.1875,  0.3561,  0.1898, -0.2495,  0.3187,\n",
      "         0.0203,  0.1812, -0.3052, -0.1087, -0.3711, -0.1533,  0.0883, -0.3119,\n",
      "         0.1144,  0.1968,  0.0527, -0.2493, -0.2920, -0.1166,  0.1659,  0.3728,\n",
      "         0.2112, -0.0375,  0.1279, -0.3647, -0.3160,  0.1516, -0.2141,  0.1829,\n",
      "        -0.2668, -0.1893, -0.3062,  0.1951, -0.0385,  0.2976,  0.2575,  0.2232,\n",
      "         0.0006, -0.1169, -0.0822,  0.0679,  0.1874, -0.2595,  0.3140, -0.0467,\n",
      "        -0.3191, -0.2088,  0.3370,  0.3457, -0.3562,  0.2666,  0.1813,  0.2092,\n",
      "         0.3035, -0.2021,  0.1125,  0.1856, -0.1123,  0.1265, -0.1087,  0.2398],\n",
      "       requires_grad=True)\n",
      "--------------------------------------------------\n",
      "Parameter name: sn.2.weight\n",
      "Parameter value: Parameter containing:\n",
      "tensor([[-0.0347, -0.0405,  0.0384,  0.0383, -0.0691,  0.0068,  0.0724, -0.0296,\n",
      "          0.0380, -0.0135,  0.0482, -0.0905, -0.0735, -0.0573,  0.1032, -0.0181,\n",
      "          0.0058, -0.0545,  0.1248,  0.1264, -0.0947, -0.1013, -0.0947, -0.0006,\n",
      "         -0.0258, -0.0797, -0.0757,  0.0297, -0.0552,  0.0053, -0.0287, -0.0485,\n",
      "          0.0172,  0.0810, -0.0801,  0.0116, -0.0461,  0.1199, -0.1362, -0.1050,\n",
      "          0.1318, -0.0791,  0.0240, -0.0016, -0.0263, -0.0214,  0.0831,  0.0242,\n",
      "         -0.1224, -0.0739, -0.0509,  0.0629, -0.0748,  0.1179, -0.0253, -0.0564,\n",
      "          0.0955,  0.0688,  0.1133,  0.1016, -0.0380, -0.0829, -0.0093,  0.1096]],\n",
      "       requires_grad=True)\n",
      "--------------------------------------------------\n",
      "Parameter name: sn.2.bias\n",
      "Parameter value: Parameter containing:\n",
      "tensor([-0.0484], requires_grad=True)\n",
      "--------------------------------------------------\n"
     ]
    },
    {
     "name": "stderr",
     "output_type": "stream",
     "text": [
      "/tmp/ipykernel_207239/1059486780.py:5: FutureWarning: You are using `torch.load` with `weights_only=False` (the current default value), which uses the default pickle module implicitly. It is possible to construct malicious pickle data which will execute arbitrary code during unpickling (See https://github.com/pytorch/pytorch/blob/main/SECURITY.md#untrusted-models for more details). In a future release, the default value for `weights_only` will be flipped to `True`. This limits the functions that could be executed during unpickling. Arbitrary objects will no longer be allowed to be loaded via this mode unless they are explicitly allowlisted by the user via `torch.serialization.add_safe_globals`. We recommend you start setting `weights_only=True` for any use case where you don't have full control of the loaded file. Please open an issue on GitHub for any issues related to this experimental feature.\n",
      "  model.load_state_dict(torch.load(\"./result/model_params_0513.pth\"))\n"
     ]
    }
   ],
   "source": [
    "from model import *\n",
    "\n",
    "model = ScoreNetwork(7,64)\n",
    "\n",
    "model.load_state_dict(torch.load(\"./result/model_params_0513.pth\"))\n",
    "\n",
    "\n",
    "# 打印模型参数（可选）\n",
    "for name, param in model.named_parameters():\n",
    "    print(f\"Parameter name: {name}\")\n",
    "    print(f\"Parameter value: {param}\")\n",
    "    print(\"-\" * 50)"
   ]
  },
  {
   "cell_type": "code",
   "execution_count": 7,
   "metadata": {},
   "outputs": [
    {
     "name": "stdout",
     "output_type": "stream",
     "text": [
      "1 4\n",
      "3\n"
     ]
    }
   ],
   "source": [
    "from bisect import bisect_left, bisect_right\n",
    "from datetime import datetime, timedelta\n",
    "\n",
    "def count_elements_in_range(datetime_list, start_time, time_range):\n",
    "    \"\"\"\n",
    "    统计从开始时间到结束时间范围内的 datetime 列表中元素的个数。\n",
    "\n",
    "    :param datetime_list: 按时间从小到大排序的 datetime 列表\n",
    "    :param start_time: 开始时间 (datetime 对象)\n",
    "    :param time_range: 时间范围 (以分钟为单位)\n",
    "    :return: 范围内的元素个数\n",
    "    \"\"\"\n",
    "    # 计算结束时间\n",
    "    end_time = start_time + timedelta(minutes=time_range)\n",
    "    \n",
    "    # 使用 bisect 找到开始时间和结束时间的索引\n",
    "    start_index = bisect_left(datetime_list, start_time)\n",
    "    end_index = bisect_right(datetime_list, end_time)\n",
    "    print(start_index, end_index)  # 调试输出索引\n",
    "    # 统计范围内的元素数量\n",
    "    return end_index - start_index\n",
    "\n",
    "# 示例用法\n",
    "datetime_list = [\n",
    "    datetime(2025, 5, 13, 8, 0),\n",
    "    datetime(2025, 5, 13, 8, 30),\n",
    "    datetime(2025, 5, 13, 9, 0),\n",
    "    datetime(2025, 5, 13, 10, 0),\n",
    "    datetime(2025, 5, 13, 12, 0),\n",
    "]\n",
    "\n",
    "start_time = datetime(2025, 5, 13, 8, 15)\n",
    "time_range = 120  # 2小时\n",
    "\n",
    "result = count_elements_in_range(datetime_list, start_time, time_range)\n",
    "print(result)  # 输出: 3"
   ]
  },
  {
   "cell_type": "code",
   "execution_count": 33,
   "metadata": {},
   "outputs": [
    {
     "name": "stdout",
     "output_type": "stream",
     "text": [
      "oid: 100 pid: 100 quantity: 1000 n_need: 10 n_dispatch: 99 n_finish: 0 plan_arrive_time: 2025-05-13 08:00:00 finish_time: 2000-01-01 00:00:00 last_cast_time: None overtime_count: 0 revenue: 350000\n",
      "oid: 100 pid: 100 quantity: 1000 n_need: 10 n_dispatch: 99 n_finish: 0 plan_arrive_time: 2025-05-13 08:00:00 finish_time: 2000-01-01 00:00:00 last_cast_time: None overtime_count: 0 revenue: 350000\n"
     ]
    }
   ],
   "source": [
    "import copy\n",
    "from component import Order\n",
    "class MyClass:\n",
    "    def __init__(self):\n",
    "        self.list1 = {}\n",
    "        self.list2 = {}\n",
    "\n",
    "# 创建实例\n",
    "obj = MyClass()\n",
    "shared_item = Order(100,100,1000,10,datetime(2025, 5, 13, 8, 0))\n",
    "obj.list1['1']=shared_item\n",
    "obj.list2['2']=shared_item\n",
    "\n",
    "# 深拷贝\n",
    "copied_obj = copy.deepcopy(obj)\n",
    "\n",
    "# 修改原始对象中的共享项\n",
    "copied_obj.list1['1'].n_dispatch = 99\n",
    "\n",
    "print(copied_obj.list1['1'])  # 输出: [99, 2, 3]\n",
    "print(copied_obj.list2['2'])  # 输出: [99, 2, 3]"
   ]
  },
  {
   "cell_type": "code",
   "execution_count": 12,
   "metadata": {},
   "outputs": [
    {
     "data": {
      "text/plain": [
       "139915877759040"
      ]
     },
     "execution_count": 12,
     "metadata": {},
     "output_type": "execute_result"
    }
   ],
   "source": [
    "id(copied_obj.list2[0] )"
   ]
  },
  {
   "cell_type": "code",
   "execution_count": null,
   "metadata": {},
   "outputs": [
    {
     "name": "stdout",
     "output_type": "stream",
     "text": [
      "Popped element value: 4\n",
      "Length of b: 4\n",
      "Length of a: 5\n",
      "a[0] value: 0\n",
      "Are a[0] and b[0] the same object? Yes\n"
     ]
    }
   ],
   "source": [
    "class MyClass:\n",
    "    def __init__(self, value):\n",
    "        self.value = value\n",
    "\n",
    "# 创建一个列表 b\n",
    "b = [MyClass(i) for i in range(5)]\n",
    "\n",
    "# 创建一个独立的副本 a，但元素引用相同\n",
    "a = b.copy()  # 或者 a = b[:]\n",
    "\n",
    "# 弹出 b 的一个元素\n",
    "popped_element = b.pop()\n",
    "\n",
    "print(f\"Popped element value: {popped_element.value}\")  # 输出被弹出的元素值\n",
    "print(f\"Length of b: {len(b)}\")  # 输出 b 的长度\n",
    "print(f\"Length of a: {len(a)}\")  # 输出 a 的长度\n",
    "\n",
    "\n",
    "\n",
    "# 检查元素引用\n",
    "print(f\"a[0] value: {a[0].value}\")  # 输出 a 中第一个元素的值\n",
    "print(f\"Are a[0] and b[0] the same object? {'Yes' if a[0] is b[0] else 'No'}\")  # 检查引用"
   ]
  },
  {
   "cell_type": "code",
   "execution_count": 5,
   "metadata": {},
   "outputs": [
    {
     "name": "stderr",
     "output_type": "stream",
     "text": [
      "C:\\Windows\\Temp\\ipykernel_22892\\1896342395.py:5: RuntimeWarning: divide by zero encountered in divide\n",
      "  1/a\n"
     ]
    },
    {
     "data": {
      "text/plain": [
       "array([inf, inf, inf, inf, inf, inf, inf, inf, inf, inf])"
      ]
     },
     "execution_count": 5,
     "metadata": {},
     "output_type": "execute_result"
    }
   ],
   "source": [
    "import numpy as np\n",
    "\n",
    "a = np.zeros(10)\n",
    "\n",
    "1/a"
   ]
  },
  {
   "cell_type": "code",
   "execution_count": 1,
   "metadata": {},
   "outputs": [
    {
     "name": "stderr",
     "output_type": "stream",
     "text": [
      "100%|██████████| 10/10 [00:05<00:00,  2.00it/s]\n"
     ]
    }
   ],
   "source": [
    "from tqdm import tqdm\n",
    "import time\n",
    "for i in tqdm(range(10)):\n",
    "    time.sleep(0.5)"
   ]
  },
  {
   "cell_type": "code",
   "execution_count": 2,
   "metadata": {},
   "outputs": [
    {
     "name": "stdout",
     "output_type": "stream",
     "text": [
      "最小值的索引: 1\n"
     ]
    }
   ],
   "source": [
    "import numpy as np\n",
    "\n",
    "# 示例列表\n",
    "data = [3, 1, 4, 1, 5, 9, 2, 6, 5]\n",
    "\n",
    "# 使用argmin找到最小值的索引\n",
    "index_of_min = np.argmin(data)\n",
    "\n",
    "print(\"最小值的索引:\", index_of_min)"
   ]
  },
  {
   "cell_type": "code",
   "execution_count": 1,
   "metadata": {},
   "outputs": [
    {
     "name": "stdout",
     "output_type": "stream",
     "text": [
      "{'deliver_time': Timestamp('2024-05-01 00:10:25'), 'order_id': 1785334604837023745, 'order_quantity': 35.0, 'project_id': '809113710869471246', 'create_time': Timestamp('2024-04-30 23:45:14'), 'ticket_count': 4, 'pouring_type': '自卸', 'id': 1}\n",
      "{'deliver_time': Timestamp('2024-05-01 03:00:00'), 'order_id': 1785261120393117697, 'order_quantity': 2.0, 'project_id': '892041295667729525', 'create_time': Timestamp('2024-04-30 18:53:14'), 'ticket_count': 1, 'pouring_type': '自卸', 'id': 4}\n",
      "{'deliver_time': Timestamp('2024-05-01 03:02:39'), 'order_id': 1785293438860197889, 'order_quantity': 13.0, 'project_id': '883059259275753126', 'create_time': Timestamp('2024-04-30 21:01:40'), 'ticket_count': 1, 'pouring_type': '自卸', 'id': 5}\n",
      "{'deliver_time': Timestamp('2024-05-01 03:37:44'), 'order_id': 1785313193804296193, 'order_quantity': 4.0, 'project_id': '883059259275753126', 'create_time': Timestamp('2024-04-30 22:20:10'), 'ticket_count': 1, 'pouring_type': '自卸', 'id': 6}\n",
      "{'deliver_time': Timestamp('2024-05-01 05:27:31'), 'order_id': 1785313333995962370, 'order_quantity': 2.0, 'project_id': '883059259275753126', 'create_time': Timestamp('2024-04-30 22:20:43'), 'ticket_count': 1, 'pouring_type': '自卸', 'id': 7}\n",
      "{'deliver_time': Timestamp('2024-05-01 05:33:44'), 'order_id': 1785223792112115713, 'order_quantity': 12.0, 'project_id': '751046850710315950', 'create_time': Timestamp('2024-04-30 16:24:55'), 'ticket_count': 2, 'pouring_type': '自卸', 'id': 8}\n",
      "{'deliver_time': Timestamp('2024-05-01 05:34:00'), 'order_id': 1785264327034994690, 'order_quantity': 3.0, 'project_id': '688680112316604418', 'create_time': Timestamp('2024-04-30 19:05:59'), 'ticket_count': 1, 'pouring_type': '自卸', 'id': 9}\n",
      "{'deliver_time': Timestamp('2024-05-01 05:47:41'), 'order_id': 1785293991744962562, 'order_quantity': 2.5, 'project_id': '781979182673667513', 'create_time': Timestamp('2024-04-30 21:03:51'), 'ticket_count': 1, 'pouring_type': '自卸', 'id': 10}\n",
      "{'deliver_time': Timestamp('2024-05-01 05:49:30'), 'order_id': 1785266864507973633, 'order_quantity': 1.5, 'project_id': '680006810098426442', 'create_time': Timestamp('2024-04-30 19:16:04'), 'ticket_count': 1, 'pouring_type': '自卸', 'id': 11}\n",
      "{'deliver_time': Timestamp('2024-05-01 06:29:11'), 'order_id': 1785435034090860546, 'order_quantity': 3.0, 'project_id': '709076948399374977', 'create_time': Timestamp('2024-05-01 06:24:19'), 'ticket_count': 1, 'pouring_type': '自卸', 'id': 13}\n"
     ]
    }
   ],
   "source": [
    "from simulator import *\n",
    "\n",
    "\n",
    "env = Environment()\n",
    "\n",
    "for order in env.orders[0:10]:\n",
    "    print(order)"
   ]
  }
 ],
 "metadata": {
  "kernelspec": {
   "display_name": "GCL4SR",
   "language": "python",
   "name": "python3"
  },
  "language_info": {
   "codemirror_mode": {
    "name": "ipython",
    "version": 3
   },
   "file_extension": ".py",
   "mimetype": "text/x-python",
   "name": "python",
   "nbconvert_exporter": "python",
   "pygments_lexer": "ipython3",
   "version": "3.12.4"
  }
 },
 "nbformat": 4,
 "nbformat_minor": 2
}
