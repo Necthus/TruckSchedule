{
 "cells": [
  {
   "cell_type": "code",
   "execution_count": 1,
   "metadata": {},
   "outputs": [
    {
     "data": {
      "text/plain": [
       "array([1, 2, 3])"
      ]
     },
     "execution_count": 1,
     "metadata": {},
     "output_type": "execute_result"
    }
   ],
   "source": [
    "import numpy as np\n",
    "\n",
    "np.array([1,2,3])"
   ]
  },
  {
   "cell_type": "code",
   "execution_count": null,
   "metadata": {},
   "outputs": [
    {
     "name": "stdout",
     "output_type": "stream",
     "text": [
      "Popped element value: 4\n",
      "Length of b: 4\n",
      "Length of a: 5\n",
      "a[0] value: 0\n",
      "Are a[0] and b[0] the same object? Yes\n"
     ]
    }
   ],
   "source": [
    "class MyClass:\n",
    "    def __init__(self, value):\n",
    "        self.value = value\n",
    "\n",
    "# 创建一个列表 b\n",
    "b = [MyClass(i) for i in range(5)]\n",
    "\n",
    "# 创建一个独立的副本 a，但元素引用相同\n",
    "a = b.copy()  # 或者 a = b[:]\n",
    "\n",
    "# 弹出 b 的一个元素\n",
    "popped_element = b.pop()\n",
    "\n",
    "print(f\"Popped element value: {popped_element.value}\")  # 输出被弹出的元素值\n",
    "print(f\"Length of b: {len(b)}\")  # 输出 b 的长度\n",
    "print(f\"Length of a: {len(a)}\")  # 输出 a 的长度\n",
    "\n",
    "\n",
    "\n",
    "# 检查元素引用\n",
    "print(f\"a[0] value: {a[0].value}\")  # 输出 a 中第一个元素的值\n",
    "print(f\"Are a[0] and b[0] the same object? {'Yes' if a[0] is b[0] else 'No'}\")  # 检查引用"
   ]
  },
  {
   "cell_type": "code",
   "execution_count": 5,
   "metadata": {},
   "outputs": [
    {
     "name": "stderr",
     "output_type": "stream",
     "text": [
      "C:\\Windows\\Temp\\ipykernel_22892\\1896342395.py:5: RuntimeWarning: divide by zero encountered in divide\n",
      "  1/a\n"
     ]
    },
    {
     "data": {
      "text/plain": [
       "array([inf, inf, inf, inf, inf, inf, inf, inf, inf, inf])"
      ]
     },
     "execution_count": 5,
     "metadata": {},
     "output_type": "execute_result"
    }
   ],
   "source": [
    "import numpy as np\n",
    "\n",
    "a = np.zeros(10)\n",
    "\n",
    "1/a"
   ]
  },
  {
   "cell_type": "code",
   "execution_count": 1,
   "metadata": {},
   "outputs": [
    {
     "name": "stderr",
     "output_type": "stream",
     "text": [
      "100%|██████████| 10/10 [00:05<00:00,  2.00it/s]\n"
     ]
    }
   ],
   "source": [
    "from tqdm import tqdm\n",
    "import time\n",
    "for i in tqdm(range(10)):\n",
    "    time.sleep(0.5)"
   ]
  }
 ],
 "metadata": {
  "kernelspec": {
   "display_name": "GCL4SR",
   "language": "python",
   "name": "python3"
  },
  "language_info": {
   "codemirror_mode": {
    "name": "ipython",
    "version": 3
   },
   "file_extension": ".py",
   "mimetype": "text/x-python",
   "name": "python",
   "nbconvert_exporter": "python",
   "pygments_lexer": "ipython3",
   "version": "3.12.4"
  }
 },
 "nbformat": 4,
 "nbformat_minor": 2
}
