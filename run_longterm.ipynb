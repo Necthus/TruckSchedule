{
 "cells": [
  {
   "cell_type": "code",
   "execution_count": null,
   "metadata": {},
   "outputs": [],
   "source": [
    "import pandas as pd\n",
    "import datetime\n",
    "from component import *\n",
    "\n",
    "def read_orders_from_csv(filename = './data/shenzhen_orders_0324.csv',start_date = datetime.datetime(2024,5,1),running_day = 15,full=True):\n",
    "    \n",
    "\n",
    "    end_date  = start_date + datetime.timedelta(days=running_day)\n",
    "        \n",
    "    fields_to_keep = ['project_id','create_time','deliver_time','order_quantity','ticket_count','pouring_type','order_id']\n",
    "    type_conversions = {'project_id': str,'order_quantity': float,'ticket_count':int,'order_id':str}\n",
    "    df = pd.read_csv(filename, usecols=fields_to_keep, dtype=type_conversions,parse_dates=['create_time','deliver_time'])\n",
    "    \n",
    "    # 将 Timestamp 转换为 datetime\n",
    "    # 将 deliver_time 列转换为 datetime 类型\n",
    "    df['deliver_time'] = pd.to_datetime(df['deliver_time'])\n",
    "    df['create_time'] = pd.to_datetime(df['create_time'])\n",
    "    \n",
    "    # 不妨假设deliver_time是真实的送货时间，以此进行筛选 \n",
    "    filtered_df = df[(df['deliver_time'] >= start_date) & (df['deliver_time'] <= end_date)]\n",
    "    \n",
    "    orders = filtered_df.to_dict(orient='records')\n",
    "    for index, order in enumerate(orders, start=1):\n",
    "        order['id'] = index\n",
    "        \n",
    "        \n",
    "    if not full:\n",
    "        orders = [order for order in orders if order['pouring_type']!='自卸']\n",
    "        \n",
    "    formed_orders = []\n",
    "        \n",
    "    for raw_order in orders:\n",
    "\n",
    "        pt = raw_order['deliver_time']\n",
    "        oid = raw_order['order_id']\n",
    "        pid = raw_order['project_id']\n",
    "        q = raw_order['order_quantity']\n",
    "        count = raw_order['ticket_count']\n",
    "        \n",
    "        current_order = Order(oid,pid,q,count,pt) \n",
    "        formed_orders.append(current_order)\n",
    "        \n",
    "    return formed_orders\n",
    "    \n",
    "        \n",
    "# 读取 CSV 文件\n",
    "df = pd.read_csv('./data/shenzhen_orders_0324.csv', dtype=str)\n",
    "\n",
    "# 提取 order_id 和 station_id，转换为字典\n",
    "order_station_dict = df.set_index('order_id')['station_id'].to_dict()\n",
    "\n",
    "def return_dispatch_list(orders:List[Order]):\n",
    "    \n",
    "    dispatch_list :List[Dispatch]= []\n",
    "    \n",
    "    for order in orders:\n",
    "        order_id = order.oid\n",
    "        from_sid = order_station_dict[order_id]\n",
    "        \n",
    "        for _ in range(order.n_need):\n",
    "            new_dispatch = Dispatch(order_id,order.pid,from_sid,order.plan_arrive_time-datetime.timedelta(hours=0),from_sid)\n",
    "            dispatch_list.append(new_dispatch)\n",
    "        \n",
    "        \n",
    "    dispatch_list.sort(key=lambda x: x.dispatch_time)\n",
    "    \n",
    "    return dispatch_list"
   ]
  },
  {
   "cell_type": "code",
   "execution_count": null,
   "metadata": {},
   "outputs": [],
   "source": [
    "from simulator import *\n",
    "\n",
    "\n",
    "\n",
    "\n",
    "\n",
    "\n",
    "env = Environment(60,4,running_day=running_day, start_date=sd)\n",
    "\n",
    "dispatch_list = return_dispatch_list(env.unscheduled_orders.values())\n",
    "env.update_station_feature_from_dispatchs(dispatch_list)\n",
    "\n",
    "\n",
    "env.continuous_running(dispatchs=dispatch_list,\n",
    "\n",
    "\n",
    "\n",
    "\n",
    "\n",
    "\n"
   ]
  },
  {
   "cell_type": "code",
   "execution_count": 81,
   "metadata": {},
   "outputs": [],
   "source": [
    "metric_dict_new = {}"
   ]
  },
  {
   "cell_type": "code",
   "execution_count": 90,
   "metadata": {},
   "outputs": [
    {
     "name": "stdout",
     "output_type": "stream",
     "text": [
      "The autoreload extension is already loaded. To reload it, use:\n",
      "  %reload_ext autoreload\n",
      "Load model parameters from ./result/model_params_0513.pth\n"
     ]
    },
    {
     "name": "stderr",
     "output_type": "stream",
     "text": [
      "/home/jiangrenchi/RL/reinforce.py:19: FutureWarning: You are using `torch.load` with `weights_only=False` (the current default value), which uses the default pickle module implicitly. It is possible to construct malicious pickle data which will execute arbitrary code during unpickling (See https://github.com/pytorch/pytorch/blob/main/SECURITY.md#untrusted-models for more details). In a future release, the default value for `weights_only` will be flipped to `True`. This limits the functions that could be executed during unpickling. Arbitrary objects will no longer be allowed to be loaded via this mode unless they are explicitly allowlisted by the user via `torch.serialization.add_safe_globals`. We recommend you start setting `weights_only=True` for any use case where you don't have full control of the loaded file. Please open an issue on GitHub for any issues related to this experimental feature.\n",
      "  self.scorenet.load_state_dict(torch.load(params_path))\n"
     ]
    },
    {
     "name": "stdout",
     "output_type": "stream",
     "text": [
      "take_action_max_prob////\n",
      "60\n"
     ]
    }
   ],
   "source": [
    "%load_ext autoreload\n",
    "%autoreload 2\n",
    "from reinforce import *\n",
    "import simulator\n",
    "import importlib\n",
    "importlib.reload(simulator)\n",
    "from simulator import *\n",
    "\n",
    "from data_based_dispatch import *  \n",
    "from heuristic_reposition import *\n",
    "from copy import deepcopy\n",
    "\n",
    "sd = datetime.datetime(2024,5,15)\n",
    "running_day = 15\n",
    "\n",
    "agent = REINFORCE(7,64,params_path='./result/model_params_0513.pth')\n",
    "original_env = Environment(60,4,running_day=running_day, start_date=sd)\n",
    "\n",
    "raw_data_dispatch = RawDataDispatch()\n",
    "\n",
    "dispatch_list_for_fixed_need = raw_data_dispatch.return_dispatch_list(original_env.unscheduled_orders.values())\n",
    "original_env.update_station_feature_from_dispatchs(dispatch_list_for_fixed_need)\n",
    "\n",
    "\n",
    "reposition_funcs = [agent.take_action_max_prob]\n",
    "\n",
    "\n",
    "start_truck = 60\n",
    "end_truck = 70\n",
    "\n",
    "for f in reposition_funcs:\n",
    "    \n",
    "    n = f.__name__ if f else 'None'\n",
    "    \n",
    "    \n",
    "    \n",
    "    while n in metric_dict_new:\n",
    "        n = n + '/'\n",
    "        \n",
    "    print(n)\n",
    "    metric_dict_new[n]= []\n",
    "    \n",
    "    for i in range(60,61):\n",
    "        print(i)\n",
    "        env=deepcopy(original_env)\n",
    "        env.continuous_running(dispatchs=dispatch_list_for_fixed_need,external_method=raw_data_dispatch.external_method_for_random_need,reposition_method=f)\n",
    "        \n",
    "        metric_dict_new[n].append(sum(env.penalty.values())+env.cost)\n",
    "        \n",
    "    \n"
   ]
  },
  {
   "cell_type": "code",
   "execution_count": null,
   "metadata": {},
   "outputs": [],
   "source": []
  },
  {
   "cell_type": "code",
   "execution_count": null,
   "metadata": {},
   "outputs": [],
   "source": [
    "{'None': [39925921.74000008],\n",
    " 'LeastTruckReturn': [29928312.56000009],\n",
    " 'take_action_max_prob': [47322907.5400001]}"
   ]
  }
 ],
 "metadata": {
  "kernelspec": {
   "display_name": "GCL4SR",
   "language": "python",
   "name": "python3"
  },
  "language_info": {
   "codemirror_mode": {
    "name": "ipython",
    "version": 3
   },
   "file_extension": ".py",
   "mimetype": "text/x-python",
   "name": "python",
   "nbconvert_exporter": "python",
   "pygments_lexer": "ipython3",
   "version": "3.12.4"
  }
 },
 "nbformat": 4,
 "nbformat_minor": 2
}
