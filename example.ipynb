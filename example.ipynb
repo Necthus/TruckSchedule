{
 "cells": [
  {
   "cell_type": "code",
   "execution_count": 22,
   "metadata": {},
   "outputs": [
    {
     "name": "stderr",
     "output_type": "stream",
     "text": [
      "/home/jiangrenchi/RL/simulator.py:1261: UserWarning: Boolean Series key will be reindexed to match DataFrame index.\n",
      "  filtered_df = filtered_df[(filtered_df['deliver_time'].dt.hour >= self.order_range[0]) & (df['deliver_time'].dt.hour < self.order_range[1])]\n"
     ]
    },
    {
     "name": "stdout",
     "output_type": "stream",
     "text": [
      "Dispatchs can satisfy the orders, dispatchs and needs are equal.\n",
      "1920800.0\n",
      "66297.5999999998\n",
      "{'waiting': 0, 'overtime': 0, 'discontinuity': 0}\n",
      "{'overtime': 4, 'discontinuity': 0}\n"
     ]
    }
   ],
   "source": [
    "import simulator\n",
    "import datetime\n",
    "import importlib\n",
    "importlib.reload(simulator)\n",
    "from component import *\n",
    "from simulator import Environment\n",
    "\n",
    "# 创建了一个环境\n",
    "env = Environment(truck_per_station=100,line_size=2,running_day=2,start_date=datetime.datetime(2024, 5, 1))\n",
    "\n",
    "\n",
    "# simulator.py的一开始定义了很多参数,可查看一下\n",
    "\n",
    "# 这个是环境中的厂站、工地和合同关系\n",
    "stations = env.stations\n",
    "projects = env.projects\n",
    "interactions = env.interaction\n",
    "\n",
    "\n",
    "# 初始化Dispatch列表\n",
    "dispatch_list :List[Dispatch]= []\n",
    "\n",
    "\n",
    "# ----------------------整个流程，以第1天为例----------------------\n",
    "\n",
    "\n",
    "env.reset2()\n",
    "\n",
    "# 返回第1天的计划订单\n",
    "plan_orders = env.return_next_day_plan_orders(datetime.datetime(2024, 5, 1),day_0=True)\n",
    "\n",
    "# 安排发车计划，这里随机安排\n",
    "for order in plan_orders:\n",
    "    oid = order.oid\n",
    "    n_need = order.n_need\n",
    "    \n",
    "    pid = order.pid\n",
    "    \n",
    "    avalible_stations = list(env.interaction[pid].keys())\n",
    "    import random\n",
    "    \n",
    "    chosen_sid = random.choice(avalible_stations)\n",
    "    \n",
    "    for i in range(n_need):\n",
    "        dispatch_list.append(Dispatch(oid=oid,pid=order.pid,from_sid=chosen_sid,dispatch_time=order.plan_arrive_time,ret_sid=chosen_sid))\n",
    "        \n",
    "        \n",
    "env.running_one_day(datetime.datetime(2024, 5, 1),dispatchs=dispatch_list,instant_orders_dispatch_method=None,reposition_method=None)\n",
    "\n",
    "\n",
    "\n",
    "# ----------------可重复多天尝试---------------\n",
    "# ----------------连续尝试多天只要reset2()一次即可----------------\n",
    "\n",
    "\n",
    "print(env.revenue)\n",
    "print(env.cost)\n",
    "print(env.penalty)\n",
    "print(env.count)\n"
   ]
  }
 ],
 "metadata": {
  "kernelspec": {
   "display_name": "GCL4SR",
   "language": "python",
   "name": "python3"
  },
  "language_info": {
   "codemirror_mode": {
    "name": "ipython",
    "version": 3
   },
   "file_extension": ".py",
   "mimetype": "text/x-python",
   "name": "python",
   "nbconvert_exporter": "python",
   "pygments_lexer": "ipython3",
   "version": "3.12.4"
  }
 },
 "nbformat": 4,
 "nbformat_minor": 2
}
