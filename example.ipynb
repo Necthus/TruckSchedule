{
 "cells": [
  {
   "cell_type": "code",
   "execution_count": 22,
   "metadata": {},
   "outputs": [
    {
     "name": "stderr",
     "output_type": "stream",
     "text": [
      "/home/jiangrenchi/RL/simulator.py:1261: UserWarning: Boolean Series key will be reindexed to match DataFrame index.\n",
      "  filtered_df = filtered_df[(filtered_df['deliver_time'].dt.hour >= self.order_range[0]) & (df['deliver_time'].dt.hour < self.order_range[1])]\n"
     ]
    },
    {
     "name": "stdout",
     "output_type": "stream",
     "text": [
      "Dispatchs can satisfy the orders, dispatchs and needs are equal.\n",
      "1920800.0\n",
      "66297.5999999998\n",
      "{'waiting': 0, 'overtime': 0, 'discontinuity': 0}\n",
      "{'overtime': 4, 'discontinuity': 0}\n"
     ]
    }
   ],
   "source": [
    "import simulator\n",
    "import datetime\n",
    "import importlib\n",
    "importlib.reload(simulator)\n",
    "from component import *\n",
    "from simulator import Environment\n",
    "\n",
    "# 创建了一个环境\n",
    "env = Environment(truck_per_station=100,line_size=2,running_day=2,start_date=datetime.datetime(2024, 5, 1))\n",
    "\n",
    "\n",
    "# simulator.py的一开始定义了很多参数,可查看一下\n",
    "\n",
    "# 这个是环境中的厂站、工地和合同关系\n",
    "stations = env.stations\n",
    "projects = env.projects\n",
    "interactions = env.interaction\n",
    "\n",
    "\n",
    "# 初始化Dispatch列表\n",
    "dispatch_list :List[Dispatch]= []\n",
    "\n",
    "\n",
    "# ----------------------整个流程，以第1天为例----------------------\n",
    "\n",
    "\n",
    "env.reset2()\n",
    "\n",
    "# 返回第1天的计划订单\n",
    "plan_orders = env.return_next_day_plan_orders(datetime.datetime(2024, 5, 1),day_0=True)\n",
    "\n",
    "# 安排发车计划，这里随机安排\n",
    "for order in plan_orders:\n",
    "    oid = order.oid\n",
    "    n_need = order.n_need\n",
    "    \n",
    "    pid = order.pid\n",
    "    \n",
    "    avalible_stations = list(env.interaction[pid].keys())\n",
    "    import random\n",
    "    \n",
    "    chosen_sid = random.choice(avalible_stations)\n",
    "    \n",
    "    for i in range(n_need):\n",
    "        dispatch_list.append(Dispatch(oid=oid,pid=order.pid,from_sid=chosen_sid,dispatch_time=order.plan_arrive_time,ret_sid=chosen_sid))\n",
    "        \n",
    "        \n",
    "env.running_one_day(datetime.datetime(2024, 5, 1),dispatchs=dispatch_list,instant_orders_dispatch_method=None,reposition_method=None)\n",
    "\n",
    "\n",
    "\n",
    "# ----------------可重复多天尝试---------------\n",
    "# ----------------连续尝试多天只要reset2()一次即可----------------\n",
    "\n",
    "\n",
    "print(env.revenue)\n",
    "print(env.cost)\n",
    "print(env.penalty)\n",
    "print(env.count)\n"
   ]
  },
  {
   "cell_type": "code",
   "execution_count": 61,
   "metadata": {},
   "outputs": [
    {
     "name": "stdout",
     "output_type": "stream",
     "text": [
      "Using device: cuda:0\n",
      "\n",
      "数据规模: 3 x 100 个浮点数\n",
      "方式1 (先切片再传GPU): 0.024760 秒\n",
      "方式2 (先传GPU再切片): 0.003265 秒\n",
      "方式2比方式1快 7.58 倍\n"
     ]
    },
    {
     "name": "stderr",
     "output_type": "stream",
     "text": [
      "/tmp/ipykernel_1753107/1362606123.py:21: UserWarning: To copy construct from a tensor, it is recommended to use sourceTensor.clone().detach() or sourceTensor.clone().detach().requires_grad_(True), rather than torch.tensor(sourceTensor).\n",
      "  tensor1 = torch.tensor(vector1[i:i+1], dtype=torch.float32, device=DEVICE)\n",
      "/tmp/ipykernel_1753107/1362606123.py:22: UserWarning: To copy construct from a tensor, it is recommended to use sourceTensor.clone().detach() or sourceTensor.clone().detach().requires_grad_(True), rather than torch.tensor(sourceTensor).\n",
      "  tensor2 = torch.tensor(vector2[i:i+1], dtype=torch.float32, device=DEVICE)\n",
      "/tmp/ipykernel_1753107/1362606123.py:23: UserWarning: To copy construct from a tensor, it is recommended to use sourceTensor.clone().detach() or sourceTensor.clone().detach().requires_grad_(True), rather than torch.tensor(sourceTensor).\n",
      "  tensor3 = torch.tensor(vector3[i:i+1], dtype=torch.float32, device=DEVICE)\n"
     ]
    }
   ],
   "source": [
    "import torch\n",
    "import time\n",
    "\n",
    "# 设置设备\n",
    "DEVICE = torch.device(\"cuda:0\" if torch.cuda.is_available() else \"cpu\")\n",
    "print(f\"Using device: {DEVICE}\")\n",
    "\n",
    "# 生成模拟数据（三个大型向量，首维为3）\n",
    "size = 100  # 1000万元素，模拟大数据场景\n",
    "vector1 = torch.rand(3, size, dtype=torch.float32)\n",
    "vector2 = torch.rand(3, size, dtype=torch.float32)\n",
    "vector3 = torch.rand(3, size, dtype=torch.float32)\n",
    "\n",
    "# 方式1: 先切片再传GPU\n",
    "torch.cuda.synchronize()\n",
    "start1 = time.time()\n",
    "\n",
    "tensors1 = []\n",
    "for i in range(3):\n",
    "    # 切片并创建tensor\n",
    "    tensor1 = torch.tensor(vector1[i:i+1], dtype=torch.float32, device=DEVICE)\n",
    "    tensor2 = torch.tensor(vector2[i:i+1], dtype=torch.float32, device=DEVICE)\n",
    "    tensor3 = torch.tensor(vector3[i:i+1], dtype=torch.float32, device=DEVICE)\n",
    "    tensors1.append((tensor1, tensor2, tensor3))\n",
    "\n",
    "torch.cuda.synchronize()\n",
    "time1 = time.time() - start1\n",
    "\n",
    "# 方式2: 先传GPU再切片\n",
    "torch.cuda.synchronize()\n",
    "start2 = time.time()\n",
    "\n",
    "# 先将整个向量传到GPU\n",
    "vector1_gpu = vector1.to(DEVICE)\n",
    "vector2_gpu = vector2.to(DEVICE)\n",
    "vector3_gpu = vector3.to(DEVICE)\n",
    "\n",
    "tensors2 = []\n",
    "for i in range(3):\n",
    "    # 在GPU上直接切片\n",
    "    tensor1 = vector1_gpu[i:i+1]\n",
    "    tensor2 = vector2_gpu[i:i+1]\n",
    "    tensor3 = vector3_gpu[i:i+1]\n",
    "    tensors2.append((tensor1, tensor2, tensor3))\n",
    "\n",
    "torch.cuda.synchronize()\n",
    "time2 = time.time() - start2\n",
    "\n",
    "# 计算比值\n",
    "speedup = time1 / time2\n",
    "\n",
    "print(f\"\\n数据规模: 3 x {size} 个浮点数\")\n",
    "print(f\"方式1 (先切片再传GPU): {time1:.6f} 秒\")\n",
    "print(f\"方式2 (先传GPU再切片): {time2:.6f} 秒\")\n",
    "print(f\"方式2比方式1快 {speedup:.2f} 倍\")"
   ]
  }
 ],
 "metadata": {
  "kernelspec": {
   "display_name": "GCL4SR",
   "language": "python",
   "name": "python3"
  },
  "language_info": {
   "codemirror_mode": {
    "name": "ipython",
    "version": 3
   },
   "file_extension": ".py",
   "mimetype": "text/x-python",
   "name": "python",
   "nbconvert_exporter": "python",
   "pygments_lexer": "ipython3",
   "version": "3.12.4"
  }
 },
 "nbformat": 4,
 "nbformat_minor": 2
}
