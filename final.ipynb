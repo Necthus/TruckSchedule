{
 "cells": [
  {
   "cell_type": "code",
   "execution_count": 2,
   "metadata": {},
   "outputs": [],
   "source": [
    "import torch\n",
    "import torch.nn as nn\n",
    "import torch.nn.functional as F\n",
    "import numpy as np\n",
    "\n",
    "\n",
    "from model import *\n",
    "\n",
    "class REINFORCE:\n",
    "    def __init__(self, feature_dim, hidden_dim, learning_rate, gamma,\n",
    "                 device):\n",
    "        self.scorenet = ScoreNetwork(feature_dim,hidden_dim).to(device)\n",
    "        self.optimizer = torch.optim.Adam(self.scorenet.parameters(),\n",
    "                                          lr=learning_rate)  # 使用Adam优化器\n",
    "        self.gamma = gamma  # 折扣因子\n",
    "        self.device = device\n",
    "\n",
    "    def take_action(self, features,num_actions):  # 根据动作概率分布随机采样\n",
    "    \n",
    "        \n",
    "        state = torch.tensor(features, dtype=torch.float).to(self.device)\n",
    "        \n",
    "        probs = self.scorenet(state)\n",
    "        probs = probs.cpu().detach().numpy()\n",
    "        action = np.random.choice(num_actions,p=probs)\n",
    "        return action\n",
    "    \n",
    "    def take_action_max_prob(self, features,num_actions):  # 根据最大动作概率分布随机采样\n",
    "    \n",
    "        state = torch.tensor(features, dtype=torch.float).to(self.device)\n",
    "        \n",
    "        probs = self.scorenet(state)\n",
    "        probs = probs.cpu().detach().numpy()\n",
    "        max_index = probs.argmax()\n",
    "        return max_index\n",
    "    \n",
    "\n",
    "    def update(self, transition_dict):\n",
    "        reward_list = transition_dict['rewards']\n",
    "        state_list = transition_dict['states']\n",
    "        action_list = transition_dict['actions']\n",
    "\n",
    "        G = 0\n",
    "        self.optimizer.zero_grad()\n",
    "        for i in reversed(range(len(reward_list))):  # 从最后一步算起\n",
    "            reward = reward_list[i]\n",
    "            state = torch.tensor(state_list[i],dtype=torch.float).to(self.device)\n",
    "            action = torch.tensor(action_list[i]).to(self.device)\n",
    "            log_prob = torch.log(self.scorenet(state)[action])\n",
    "            G = self.gamma * G + reward\n",
    "            loss = -log_prob * G  # 每一步的损失函数\n",
    "            loss.backward()  # 反向传播计算梯度\n",
    "        self.optimizer.step()  # 梯度下降"
   ]
  },
  {
   "cell_type": "code",
   "execution_count": 11,
   "metadata": {},
   "outputs": [],
   "source": [
    "import pandas as pd\n",
    "from component import *\n",
    "\n",
    "# 读取 CSV 文件\n",
    "df = pd.read_csv('./data/shenzhen_orders_0324.csv', dtype=str)\n",
    "\n",
    "# 提取 order_id 和 station_id，转换为字典\n",
    "order_station_dict = df.set_index('order_id')['station_id'].to_dict()\n",
    "\n",
    "def return_dispatch_list(orders:List[Order]):\n",
    "    \n",
    "    dispatch_list :List[Dispatch]= []\n",
    "    \n",
    "    for order in orders:\n",
    "        order_id = order.oid\n",
    "        from_sid = order_station_dict[order_id]\n",
    "        \n",
    "        for _ in range(order.n_need):\n",
    "            new_dispatch = Dispatch(order_id,order.pid,from_sid,order.plan_arrive_time-datetime.timedelta(hours=0),from_sid)\n",
    "            dispatch_list.append(new_dispatch)\n",
    "        \n",
    "        \n",
    "    dispatch_list.sort(key=lambda x: x.dispatch_time)\n",
    "    \n",
    "    return dispatch_list\n",
    "\n"
   ]
  },
  {
   "cell_type": "code",
   "execution_count": 13,
   "metadata": {},
   "outputs": [],
   "source": [
    "return_list = []\n",
    "total_money_list = []"
   ]
  },
  {
   "cell_type": "code",
   "execution_count": 14,
   "metadata": {},
   "outputs": [
    {
     "name": "stdout",
     "output_type": "stream",
     "text": [
      "No model parameters found at \n",
      "No parameters found. Initializing a new model.\n"
     ]
    },
    {
     "name": "stderr",
     "output_type": "stream",
     "text": [
      "Iteration 0: 100%|██████████| 100/100 [17:38<00:00, 10.58s/it, episode=100, return=-28557973.606]\n"
     ]
    },
    {
     "name": "stdout",
     "output_type": "stream",
     "text": [
      "28475401.950000003\n"
     ]
    },
    {
     "name": "stderr",
     "output_type": "stream",
     "text": [
      "Iteration 1: 100%|██████████| 100/100 [18:04<00:00, 10.85s/it, episode=200, return=-23772909.583]\n"
     ]
    },
    {
     "name": "stdout",
     "output_type": "stream",
     "text": [
      "22801985.660000004\n"
     ]
    },
    {
     "name": "stderr",
     "output_type": "stream",
     "text": [
      "Iteration 2: 100%|██████████| 100/100 [19:22<00:00, 11.63s/it, episode=300, return=-14155912.214]\n"
     ]
    },
    {
     "name": "stdout",
     "output_type": "stream",
     "text": [
      "14630333.610000001\n"
     ]
    },
    {
     "name": "stderr",
     "output_type": "stream",
     "text": [
      "Iteration 3: 100%|██████████| 100/100 [19:29<00:00, 11.69s/it, episode=400, return=-14617419.306]\n"
     ]
    },
    {
     "name": "stdout",
     "output_type": "stream",
     "text": [
      "15115468.010000002\n"
     ]
    },
    {
     "name": "stderr",
     "output_type": "stream",
     "text": [
      "Iteration 4: 100%|██████████| 100/100 [18:46<00:00, 11.27s/it, episode=500, return=-16981728.756]\n"
     ]
    },
    {
     "name": "stdout",
     "output_type": "stream",
     "text": [
      "16932016.19\n"
     ]
    },
    {
     "name": "stderr",
     "output_type": "stream",
     "text": [
      "Iteration 5: 100%|██████████| 100/100 [17:58<00:00, 10.79s/it, episode=600, return=-29835528.597]\n"
     ]
    },
    {
     "name": "stdout",
     "output_type": "stream",
     "text": [
      "29924450.970000003\n"
     ]
    },
    {
     "name": "stderr",
     "output_type": "stream",
     "text": [
      "Iteration 6: 100%|██████████| 100/100 [16:26<00:00,  9.86s/it, episode=700, return=-26700670.439]\n"
     ]
    },
    {
     "name": "stdout",
     "output_type": "stream",
     "text": [
      "25209293.32\n"
     ]
    },
    {
     "name": "stderr",
     "output_type": "stream",
     "text": [
      "Iteration 7: 100%|██████████| 100/100 [17:10<00:00, 10.30s/it, episode=800, return=-41782202.089]\n"
     ]
    },
    {
     "name": "stdout",
     "output_type": "stream",
     "text": [
      "35207211.72\n"
     ]
    },
    {
     "name": "stderr",
     "output_type": "stream",
     "text": [
      "Iteration 8: 100%|██████████| 100/100 [17:03<00:00, 10.23s/it, episode=900, return=-24337884.293]\n"
     ]
    },
    {
     "name": "stdout",
     "output_type": "stream",
     "text": [
      "26528903.41\n"
     ]
    },
    {
     "name": "stderr",
     "output_type": "stream",
     "text": [
      "Iteration 9: 100%|██████████| 100/100 [18:56<00:00, 11.36s/it, episode=1000, return=-15285248.899]"
     ]
    },
    {
     "name": "stdout",
     "output_type": "stream",
     "text": [
      "15493597.14\n"
     ]
    },
    {
     "name": "stderr",
     "output_type": "stream",
     "text": [
      "\n"
     ]
    }
   ],
   "source": [
    "from tqdm import tqdm\n",
    "import torch\n",
    "import os\n",
    "import simulator\n",
    "import importlib\n",
    "importlib.reload(simulator)\n",
    "from simulator import *\n",
    "from reinforce import *\n",
    "params_path_read = './result/model_params_0513.pth'\n",
    "params_path_save = './result/model_params_0513.pth'\n",
    "\n",
    "from copy import deepcopy\n",
    "\n",
    "learning_rate = 1e-3\n",
    "num_episodes = 1000\n",
    "hidden_dim = 64\n",
    "gamma = 0.98\n",
    "device = torch.device(\"cuda:3\") if torch.cuda.is_available() else torch.device(\n",
    "    \"cpu\")\n",
    "\n",
    "torch.manual_seed(0)\n",
    "\n",
    "agent = REINFORCE(7, hidden_dim, learning_rate, gamma,device)\n",
    "\n",
    "\n",
    "if os.path.exists(params_path_read):\n",
    "    agent.scorenet.load_state_dict(torch.load(params_path_read))\n",
    "    print(\"Model parameters loaded.\")\n",
    "else:\n",
    "    print(\"No parameters found. Initializing a new model.\")\n",
    "\n",
    "\n",
    "original_env = Environment(60,4,running_day=15,start_date=datetime.datetime(2024,5,1))\n",
    "Truck.id_count = 0\n",
    "dispatch_list = return_dispatch_list(original_env.unscheduled_orders.values())\n",
    "original_env.update_station_feature_from_dispatchs(dispatch_list)\n",
    "\n",
    "\n",
    "dispatch_iter = DispatchIterator(dispatch_list)\n",
    "\n",
    "\n",
    "for i in range(10):\n",
    "    with tqdm(total=int(num_episodes / 10), desc='Iteration %d' % i) as pbar:\n",
    "        for i_episode in range(int(num_episodes / 10)):\n",
    "            episode_return = 0\n",
    "            transition_dict = {\n",
    "                'states': [],\n",
    "                'actions': [],\n",
    "                'next_states': [],\n",
    "                'rewards': [],\n",
    "                'dones': []\n",
    "            }\n",
    "            \n",
    "            env = deepcopy(original_env)\n",
    "            dispatch_iter = DispatchIterator(dispatch_list)\n",
    "            assert dispatch_iter\n",
    "            stations,features,reward,current_truck  = env.train_step(dispatch_iter)\n",
    "\n",
    "\n",
    "            done = False\n",
    "\n",
    "            while not done:\n",
    "                \n",
    "                action = agent.take_action(features)\n",
    "                \n",
    "                env.take_action(stations[action],current_truck)\n",
    "                \n",
    "                nxt_stations,nxt_features,reward,nxt_truck  = env.train_step(dispatch_iter)\n",
    "                \n",
    "                \n",
    "                if nxt_stations == None:\n",
    "                    done = True\n",
    "                \n",
    "                transition_dict['states'].append(features)\n",
    "                transition_dict['actions'].append(action)\n",
    "                # transition_dict['next_states'].append(next_state)\n",
    "                transition_dict['rewards'].append(reward)\n",
    "                transition_dict['dones'].append(done)\n",
    "                stations = nxt_stations\n",
    "                features = nxt_features\n",
    "                current_truck = nxt_truck\n",
    "                episode_return += reward\n",
    "            return_list.append(episode_return)\n",
    "            total_money_list.append(env.count_total_money())\n",
    "            agent.update(transition_dict)\n",
    "            \n",
    "            # 保存模型参数\n",
    "            torch.save(agent.scorenet.state_dict(), params_path_save)\n",
    "            \n",
    "            \n",
    "            if (i_episode + 1) % 100 == 0:\n",
    "                pbar.set_postfix({\n",
    "                    'episode':\n",
    "                    '%d' % (num_episodes / 10 * i + i_episode + 1),\n",
    "                    'return':\n",
    "                    '%.3f' % np.mean(return_list[-10:])\n",
    "                })\n",
    "            pbar.update(1)\n",
    "            \n",
    "    print(total_money_list[-1])"
   ]
  },
  {
   "cell_type": "code",
   "execution_count": 10,
   "metadata": {},
   "outputs": [
    {
     "data": {
      "image/png": "[encoded data removed]",
      "text/plain": [
       "<Figure size 640x480 with 1 Axes>"
      ]
     },
     "metadata": {},
     "output_type": "display_data"
    },
    {
     "data": {
      "image/png": "[encoded data removed]",
      "text/plain": [
       "<Figure size 640x480 with 1 Axes>"
      ]
     },
     "metadata": {},
     "output_type": "display_data"
    }
   ],
   "source": [
    "from matplotlib import pyplot as plt\n",
    "import rl_utils\n",
    "\n",
    "episodes_list = list(range(len(return_list)))\n",
    "\n",
    "mv_return = rl_utils.moving_average(return_list, 9)\n",
    "plt.plot(episodes_list, mv_return)\n",
    "plt.xlabel('Episodes')\n",
    "plt.ylabel('Returns')\n",
    "plt.title(f'REINFORCE on Truck Reposition')\n",
    "plt.show()\n",
    "\n",
    "\n",
    "episodes_list = list(range(len(total_money_list)))\n",
    "\n",
    "mv_return = rl_utils.moving_average(total_money_list, 9)\n",
    "plt.plot(episodes_list, mv_return)\n",
    "plt.xlabel('Episodes')\n",
    "plt.ylabel('Time')\n",
    "plt.title(f'REINFORCE on Truck Reposition')\n",
    "plt.show()"
   ]
  },
  {
   "cell_type": "markdown",
   "metadata": {},
   "source": []
  },
  {
   "cell_type": "code",
   "execution_count": 15,
   "metadata": {},
   "outputs": [
    {
     "data": {
      "text/plain": [
       "[1022747.3600000007,\n",
       " 942686.8800000007,\n",
       " 982735.8400000008,\n",
       " 982748.8000000007,\n",
       " 1102753.1200000008,\n",
       " 1022760.3200000008,\n",
       " 1102757.4400000006,\n",
       " 1022757.4400000008,\n",
       " 1022676.8000000007,\n",
       " 1022653.7600000008]"
      ]
     },
     "execution_count": 15,
     "metadata": {},
     "output_type": "execute_result"
    }
   ],
   "source": [
    "total_money_list[-10:]"
   ]
  },
  {
   "cell_type": "code",
   "execution_count": null,
   "metadata": {},
   "outputs": [
    {
     "data": {
      "image/png": "[encoded data removed]",
      "text/plain": [
       "<Figure size 640x480 with 1 Axes>"
      ]
     },
     "metadata": {},
     "output_type": "display_data"
    }
   ],
   "source": [
    "import matplotlib.pyplot as plt\n",
    "\n",
    "\n",
    "\n",
    "# 创建直方图\n",
    "plt.hist(total_money_list[-100:], bins=6, edgecolor='black', alpha=0.7)\n",
    "\n",
    "# 添加标题和标签\n",
    "plt.title('Histogram of Data')\n",
    "plt.xlabel('Value')\n",
    "plt.ylabel('Frequency')\n",
    "\n",
    "# 显示图形\n",
    "plt.show()"
   ]
  },
  {
   "cell_type": "code",
   "execution_count": null,
   "metadata": {},
   "outputs": [
    {
     "data": {
      "text/plain": [
       "np.float64(5.585517295229172)"
      ]
     },
     "execution_count": 18,
     "metadata": {},
     "output_type": "execute_result"
    }
   ],
   "source": [
    "np.mean(total_money_list[-100:])"
   ]
  },
  {
   "cell_type": "code",
   "execution_count": null,
   "metadata": {},
   "outputs": [
    {
     "name": "stderr",
     "output_type": "stream",
     "text": [
      "/home/jiangrenchi/RL/ipykernel_2224651/2853264670.py:21: FutureWarning: You are using `torch.load` with `weights_only=False` (the current default value), which uses the default pickle module implicitly. It is possible to construct malicious pickle data which will execute arbitrary code during unpickling (See https://github.com/pytorch/pytorch/blob/main/SECURITY.md#untrusted-models for more details). In a future release, the default value for `weights_only` will be flipped to `True`. This limits the functions that could be executed during unpickling. Arbitrary objects will no longer be allowed to be loaded via this mode unless they are explicitly allowlisted by the user via `torch.serialization.add_safe_globals`. We recommend you start setting `weights_only=True` for any use case where you don't have full control of the loaded file. Please open an issue on GitHub for any issues related to this experimental feature.\n",
      "  agent.scorenet.load_state_dict(torch.load(params_path))\n",
      "100%|██████████| 10/10 [00:34<00:00,  3.42s/it]\n"
     ]
    }
   ],
   "source": [
    "from tqdm import tqdm\n",
    "import torch\n",
    "import os\n",
    "from simulator import *\n",
    "\n",
    "params_path = './model_params.pth'\n",
    "\n",
    "\n",
    "learning_rate = 1e-3\n",
    "num_episodes = 1000\n",
    "hidden_dim = 32\n",
    "gamma = 0.98\n",
    "device = torch.device(\"cuda:0\") if torch.cuda.is_available() else torch.device(\n",
    "    \"cpu\")\n",
    "\n",
    "torch.manual_seed(0)\n",
    "\n",
    "agent = REINFORCE(4, hidden_dim, learning_rate, gamma,device)\n",
    "\n",
    "agent.scorenet.load_state_dict(torch.load(params_path))\n",
    "\n",
    "\n",
    "episode_return = 0\n",
    "\n",
    "env = Environment(128,4,running_day=1,start_date=datetime.datetime(2024,5,2))\n",
    "Truck.id_count = 0\n",
    "\n",
    "metric_list = []\n",
    "\n",
    "\n",
    "\n",
    "for i in tqdm(range(10)):\n",
    "    \n",
    "    env.reset()\n",
    "\n",
    "    stations_features,current_time,regu_reward,current_truck  = env.step()\n",
    "\n",
    "    # state = env.reset()\n",
    "    done = False\n",
    "    while not done:\n",
    "        \n",
    "        stations = []\n",
    "        features = []\n",
    "\n",
    "        for s,feature in stations_features.items():\n",
    "        \n",
    "            stations.append(s)\n",
    "            features.append(feature)\n",
    "        \n",
    "        action = agent.take_action_max_prob(features,len(stations))\n",
    "        \n",
    "        env.take_action(stations[action],current_truck)\n",
    "        \n",
    "        nxt_stations_features,nxt_time,regu_reward,nxt_truck  = env.step()\n",
    "        \n",
    "        \n",
    "        if nxt_stations_features == None:\n",
    "            done = True\n",
    "        \n",
    "        stations_features = nxt_stations_features\n",
    "        current_truck = nxt_truck\n",
    "        episode_return += regu_reward\n",
    "\n",
    "    metric_list.append(env.count_time_per_fang())\n",
    "    \n",
    "    \n",
    "    "
   ]
  },
  {
   "cell_type": "code",
   "execution_count": 22,
   "metadata": {},
   "outputs": [
    {
     "data": {
      "text/plain": [
       "[6.869999398423871,\n",
       " 6.869999398423871,\n",
       " 6.869999398423871,\n",
       " 6.869999398423871,\n",
       " 6.869999398423871,\n",
       " 6.869999398423871,\n",
       " 6.869999398423871,\n",
       " 6.869999398423871,\n",
       " 6.869999398423871,\n",
       " 6.869999398423871]"
      ]
     },
     "execution_count": 22,
     "metadata": {},
     "output_type": "execute_result"
    }
   ],
   "source": [
    "metric_list"
   ]
  },
  {
   "cell_type": "code",
   "execution_count": 20,
   "metadata": {},
   "outputs": [
    {
     "data": {
      "text/plain": [
       "np.float64(5.5773873662840625)"
      ]
     },
     "execution_count": 20,
     "metadata": {},
     "output_type": "execute_result"
    }
   ],
   "source": [
    "np.mean(metric_list)"
   ]
  },
  {
   "cell_type": "markdown",
   "metadata": {},
   "source": [
    "[6.682668591710281,\n",
    " 6.691090657522709,\n",
    " 6.696625157913734,\n",
    " 6.775070685195211,\n",
    " 6.76315947783192,\n",
    " 6.64464898032846,\n",
    " 6.7045659628225955,\n",
    " 6.6647416230523975,\n",
    " 6.796968056307525,\n",
    " 6.683631113517416]\n",
    "\n",
    " np.float64(6.710317030620226)"
   ]
  },
  {
   "cell_type": "code",
   "execution_count": 10,
   "metadata": {},
   "outputs": [
    {
     "data": {
      "text/plain": [
       "np.float64(5.605450144452253)"
      ]
     },
     "execution_count": 10,
     "metadata": {},
     "output_type": "execute_result"
    }
   ],
   "source": [
    "np.mean(metric_list)"
   ]
  },
  {
   "cell_type": "code",
   "execution_count": null,
   "metadata": {},
   "outputs": [],
   "source": [
    "6.708295734825242"
   ]
  }
 ],
 "metadata": {
  "kernelspec": {
   "display_name": "GCL4SR",
   "language": "python",
   "name": "python3"
  },
  "language_info": {
   "codemirror_mode": {
    "name": "ipython",
    "version": 3
   },
   "file_extension": ".py",
   "mimetype": "text/x-python",
   "name": "python",
   "nbconvert_exporter": "python",
   "pygments_lexer": "ipython3",
   "version": "3.12.4"
  }
 },
 "nbformat": 4,
 "nbformat_minor": 2
}
