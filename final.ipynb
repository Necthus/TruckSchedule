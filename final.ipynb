{
 "cells": [
  {
   "cell_type": "code",
   "execution_count": 2,
   "metadata": {},
   "outputs": [],
   "source": [
    "import torch\n",
    "import torch.nn as nn\n",
    "import torch.nn.functional as F\n",
    "\n",
    "class ScoreNetwork(nn.Module):\n",
    "    def __init__(self, feature_dim, hidden_size):\n",
    "        super(ScoreNetwork, self).__init__()\n",
    "        self.sn = nn.Sequential(nn.Linear(feature_dim,hidden_size),nn.ReLU(),nn.Linear(hidden_size,1))\n",
    "\n",
    "    def forward(self, features):\n",
    "        # actions 的形状为 (num_actions, input_size)\n",
    "        scores = self.sn(features)  # 计算每个动作的得分\n",
    "        probabilities = F.softmax(scores, dim=0).view(-1)  # 通过 Softmax 转换为概率分布\n",
    "        return probabilities"
   ]
  },
  {
   "cell_type": "code",
   "execution_count": 3,
   "metadata": {},
   "outputs": [],
   "source": [
    "import torch\n",
    "import torch.nn as nn\n",
    "import torch.nn.functional as F\n",
    "\n",
    "\n",
    "class REINFORCE:\n",
    "    def __init__(self, feature_dim, hidden_dim, learning_rate, gamma,\n",
    "                 device):\n",
    "        self.scorenet = ScoreNetwork(feature_dim,hidden_dim).to(device)\n",
    "        self.optimizer = torch.optim.Adam(self.scorenet.parameters(),\n",
    "                                          lr=learning_rate)  # 使用Adam优化器\n",
    "        self.gamma = gamma  # 折扣因子\n",
    "        self.device = device\n",
    "\n",
    "    def take_action(self, features,num_actions):  # 根据动作概率分布随机采样\n",
    "    \n",
    "            \n",
    "        state = torch.tensor(features, dtype=torch.float).to(self.device)\n",
    "        \n",
    "        probs = self.scorenet(state)\n",
    "        probs = probs.cpu().detach().numpy()\n",
    "        action = np.random.choice(num_actions,p=probs)\n",
    "        return action\n",
    "    \n",
    "    def take_action_max_prob(self, features,num_actions):  # 根据最大动作概率分布随机采样\n",
    "    \n",
    "        state = torch.tensor(features, dtype=torch.float).to(self.device)\n",
    "        \n",
    "        probs = self.scorenet(state)\n",
    "        probs = probs.cpu().detach().numpy()\n",
    "        max_index = probs.argmax()\n",
    "        return max_index\n",
    "    \n",
    "\n",
    "    def update(self, transition_dict):\n",
    "        reward_list = transition_dict['rewards']\n",
    "        state_list = transition_dict['states']\n",
    "        action_list = transition_dict['actions']\n",
    "\n",
    "        G = 0\n",
    "        self.optimizer.zero_grad()\n",
    "        for i in reversed(range(len(reward_list))):  # 从最后一步算起\n",
    "            reward = reward_list[i]\n",
    "            state = torch.tensor(state_list[i],dtype=torch.float).to(self.device)\n",
    "            action = torch.tensor(action_list[i]).to(self.device)\n",
    "            log_prob = torch.log(self.scorenet(state)[action])\n",
    "            G = self.gamma * G + reward\n",
    "            loss = -log_prob * G  # 每一步的损失函数\n",
    "            loss.backward()  # 反向传播计算梯度\n",
    "        self.optimizer.step()  # 梯度下降"
   ]
  },
  {
   "cell_type": "code",
   "execution_count": null,
   "metadata": {},
   "outputs": [
    {
     "name": "stderr",
     "output_type": "stream",
     "text": [
      "/home/jiangrenchi/RL/ipykernel_884816/3067086606.py:27: FutureWarning: You are using `torch.load` with `weights_only=False` (the current default value), which uses the default pickle module implicitly. It is possible to construct malicious pickle data which will execute arbitrary code during unpickling (See https://github.com/pytorch/pytorch/blob/main/SECURITY.md#untrusted-models for more details). In a future release, the default value for `weights_only` will be flipped to `True`. This limits the functions that could be executed during unpickling. Arbitrary objects will no longer be allowed to be loaded via this mode unless they are explicitly allowlisted by the user via `torch.serialization.add_safe_globals`. We recommend you start setting `weights_only=True` for any use case where you don't have full control of the loaded file. Please open an issue on GitHub for any issues related to this experimental feature.\n",
      "  agent.scorenet.load_state_dict(torch.load(params_path))\n"
     ]
    },
    {
     "name": "stdout",
     "output_type": "stream",
     "text": [
      "Model parameters loaded.\n"
     ]
    },
    {
     "name": "stderr",
     "output_type": "stream",
     "text": [
      "Iteration 0:   0%|          | 0/100 [00:00<?, ?it/s]"
     ]
    },
    {
     "name": "stderr",
     "output_type": "stream",
     "text": [
      "Iteration 0: 100%|██████████| 100/100 [06:56<00:00,  4.16s/it, episode=100, return=-114922.488]\n"
     ]
    },
    {
     "name": "stdout",
     "output_type": "stream",
     "text": [
      "5.6573748731162645\n"
     ]
    },
    {
     "name": "stderr",
     "output_type": "stream",
     "text": [
      "Iteration 1: 100%|██████████| 100/100 [07:08<00:00,  4.28s/it, episode=200, return=-111207.851]\n"
     ]
    },
    {
     "name": "stdout",
     "output_type": "stream",
     "text": [
      "5.803701100960413\n"
     ]
    },
    {
     "name": "stderr",
     "output_type": "stream",
     "text": [
      "Iteration 2: 100%|██████████| 100/100 [07:12<00:00,  4.32s/it, episode=300, return=-112189.509]\n"
     ]
    },
    {
     "name": "stdout",
     "output_type": "stream",
     "text": [
      "5.769501054111033\n"
     ]
    },
    {
     "name": "stderr",
     "output_type": "stream",
     "text": [
      "Iteration 3: 100%|██████████| 100/100 [06:58<00:00,  4.18s/it, episode=400, return=-109290.139]\n"
     ]
    },
    {
     "name": "stdout",
     "output_type": "stream",
     "text": [
      "5.747169516670571\n"
     ]
    },
    {
     "name": "stderr",
     "output_type": "stream",
     "text": [
      "Iteration 4: 100%|██████████| 100/100 [07:06<00:00,  4.27s/it, episode=500, return=-106665.311]\n"
     ]
    },
    {
     "name": "stdout",
     "output_type": "stream",
     "text": [
      "5.566799406574529\n"
     ]
    },
    {
     "name": "stderr",
     "output_type": "stream",
     "text": [
      "Iteration 5: 100%|██████████| 100/100 [06:59<00:00,  4.20s/it, episode=600, return=-99760.155]\n"
     ]
    },
    {
     "name": "stdout",
     "output_type": "stream",
     "text": [
      "5.663621457015695\n"
     ]
    },
    {
     "name": "stderr",
     "output_type": "stream",
     "text": [
      "Iteration 6: 100%|██████████| 100/100 [06:55<00:00,  4.15s/it, episode=700, return=-105116.451]\n"
     ]
    },
    {
     "name": "stdout",
     "output_type": "stream",
     "text": [
      "5.4246896228624975\n"
     ]
    },
    {
     "name": "stderr",
     "output_type": "stream",
     "text": [
      "Iteration 7: 100%|██████████| 100/100 [07:07<00:00,  4.27s/it, episode=800, return=-111069.258]\n"
     ]
    },
    {
     "name": "stdout",
     "output_type": "stream",
     "text": [
      "5.675021472632154\n"
     ]
    },
    {
     "name": "stderr",
     "output_type": "stream",
     "text": [
      "Iteration 8: 100%|██████████| 100/100 [07:06<00:00,  4.26s/it, episode=900, return=-104997.524]\n"
     ]
    },
    {
     "name": "stdout",
     "output_type": "stream",
     "text": [
      "5.471851331303194\n"
     ]
    },
    {
     "name": "stderr",
     "output_type": "stream",
     "text": [
      "Iteration 9: 100%|██████████| 100/100 [07:00<00:00,  4.20s/it, episode=1000, return=-107684.326]"
     ]
    },
    {
     "name": "stdout",
     "output_type": "stream",
     "text": [
      "5.734832513469197\n"
     ]
    },
    {
     "name": "stderr",
     "output_type": "stream",
     "text": [
      "\n"
     ]
    }
   ],
   "source": [
    "from tqdm import tqdm\n",
    "import torch\n",
    "import os\n",
    "from simulator import *\n",
    "\n",
    "params_path = './model_params.pth'\n",
    "\n",
    "\n",
    "\n",
    "learning_rate = 1e-3\n",
    "num_episodes = 1000\n",
    "hidden_dim = 32\n",
    "gamma = 0.98\n",
    "device = torch.device(\"cuda:0\") if torch.cuda.is_available() else torch.device(\n",
    "    \"cpu\")\n",
    "\n",
    "torch.manual_seed(0)\n",
    "\n",
    "agent = REINFORCE(4, hidden_dim, learning_rate, gamma,device)\n",
    "\n",
    "\n",
    "if os.path.exists(params_path):\n",
    "    agent.scorenet.load_state_dict(torch.load(params_path))\n",
    "    print(\"Model parameters loaded.\")\n",
    "else:\n",
    "    print(\"No parameters found. Initializing a new model.\")\n",
    "\n",
    "return_list = []\n",
    "avg_time_list = []\n",
    "\n",
    "for i in range(10):\n",
    "    with tqdm(total=int(num_episodes / 10), desc='Iteration %d' % i) as pbar:\n",
    "        for i_episode in range(int(num_episodes / 10)):\n",
    "            episode_return = 0\n",
    "            transition_dict = {\n",
    "                'states': [],\n",
    "                'actions': [],\n",
    "                'next_states': [],\n",
    "                'rewards': [],\n",
    "                'dones': []\n",
    "            }\n",
    "            \n",
    "            env = Environment(10,1)\n",
    "            Truck.id_count = 0\n",
    "            \n",
    "            stations_features,current_time,regu_reward,current_truck  = env.step()\n",
    "\n",
    "            # state = env.reset()\n",
    "            done = False\n",
    "            while not done:\n",
    "                \n",
    "                stations = []\n",
    "                features = []\n",
    "            \n",
    "                for s,feature in stations_features.items():\n",
    "                \n",
    "                    stations.append(s)\n",
    "                    features.append(feature)\n",
    "                \n",
    "                action = agent.take_action(features,len(stations))\n",
    "                \n",
    "                env.take_action(stations[action],current_truck)\n",
    "                \n",
    "                nxt_stations_features,nxt_time,regu_reward,nxt_truck  = env.step()\n",
    "                \n",
    "                \n",
    "                if nxt_stations_features == None:\n",
    "                    done = True\n",
    "                \n",
    "                transition_dict['states'].append(features)\n",
    "                transition_dict['actions'].append(action)\n",
    "                # transition_dict['next_states'].append(next_state)\n",
    "                transition_dict['rewards'].append(regu_reward)\n",
    "                transition_dict['dones'].append(done)\n",
    "                stations_features = nxt_stations_features\n",
    "                current_truck = nxt_truck\n",
    "                episode_return += regu_reward\n",
    "            return_list.append(episode_return)\n",
    "            avg_time_list.append(env.count_time_per_fang())\n",
    "            agent.update(transition_dict)\n",
    "            \n",
    "            # 保存模型参数\n",
    "            torch.save(agent.scorenet.state_dict(), params_path)\n",
    "            \n",
    "            \n",
    "            \n",
    "            if (i_episode + 1) % 10 == 0:\n",
    "                pbar.set_postfix({\n",
    "                    'episode':\n",
    "                    '%d' % (num_episodes / 10 * i + i_episode + 1),\n",
    "                    'return':\n",
    "                    '%.3f' % np.mean(return_list[-10:])\n",
    "                })\n",
    "            pbar.update(1)\n",
    "            \n",
    "    print(avg_time_list[-1])"
   ]
  },
  {
   "cell_type": "code",
   "execution_count": 15,
   "metadata": {},
   "outputs": [
    {
     "data": {
      "image/png": "[encoded data removed]",
      "text/plain": [
       "<Figure size 640x480 with 1 Axes>"
      ]
     },
     "metadata": {},
     "output_type": "display_data"
    },
    {
     "data": {
      "image/png": "[encoded data removed]",
      "text/plain": [
       "<Figure size 640x480 with 1 Axes>"
      ]
     },
     "metadata": {},
     "output_type": "display_data"
    }
   ],
   "source": [
    "from matplotlib import pyplot as plt\n",
    "import rl_utils\n",
    "\n",
    "episodes_list = list(range(len(return_list)))\n",
    "\n",
    "mv_return = rl_utils.moving_average(return_list, 9)\n",
    "plt.plot(episodes_list, mv_return)\n",
    "plt.xlabel('Episodes')\n",
    "plt.ylabel('Returns')\n",
    "plt.title(f'REINFORCE on Truck Reposition')\n",
    "plt.show()\n",
    "\n",
    "\n",
    "episodes_list = list(range(len(avg_time_list)))\n",
    "\n",
    "mv_return = rl_utils.moving_average(avg_time_list, 9)\n",
    "plt.plot(episodes_list, mv_return)\n",
    "plt.xlabel('Episodes')\n",
    "plt.ylabel('Time')\n",
    "plt.title(f'REINFORCE on Truck Reposition')\n",
    "plt.show()"
   ]
  },
  {
   "cell_type": "code",
   "execution_count": 17,
   "metadata": {},
   "outputs": [
    {
     "data": {
      "image/png": "[encoded data removed]",
      "text/plain": [
       "<Figure size 640x480 with 1 Axes>"
      ]
     },
     "metadata": {},
     "output_type": "display_data"
    }
   ],
   "source": [
    "import matplotlib.pyplot as plt\n",
    "\n",
    "\n",
    "\n",
    "# 创建直方图\n",
    "plt.hist(avg_time_list[-100:], bins=6, edgecolor='black', alpha=0.7)\n",
    "\n",
    "# 添加标题和标签\n",
    "plt.title('Histogram of Data')\n",
    "plt.xlabel('Value')\n",
    "plt.ylabel('Frequency')\n",
    "\n",
    "# 显示图形\n",
    "plt.show()"
   ]
  },
  {
   "cell_type": "code",
   "execution_count": 18,
   "metadata": {},
   "outputs": [
    {
     "data": {
      "text/plain": [
       "np.float64(5.585517295229172)"
      ]
     },
     "execution_count": 18,
     "metadata": {},
     "output_type": "execute_result"
    }
   ],
   "source": [
    "np.mean(avg_time_list[-100:])"
   ]
  },
  {
   "cell_type": "code",
   "execution_count": 21,
   "metadata": {},
   "outputs": [
    {
     "name": "stderr",
     "output_type": "stream",
     "text": [
      "/home/jiangrenchi/RL/ipykernel_2224651/2853264670.py:21: FutureWarning: You are using `torch.load` with `weights_only=False` (the current default value), which uses the default pickle module implicitly. It is possible to construct malicious pickle data which will execute arbitrary code during unpickling (See https://github.com/pytorch/pytorch/blob/main/SECURITY.md#untrusted-models for more details). In a future release, the default value for `weights_only` will be flipped to `True`. This limits the functions that could be executed during unpickling. Arbitrary objects will no longer be allowed to be loaded via this mode unless they are explicitly allowlisted by the user via `torch.serialization.add_safe_globals`. We recommend you start setting `weights_only=True` for any use case where you don't have full control of the loaded file. Please open an issue on GitHub for any issues related to this experimental feature.\n",
      "  agent.scorenet.load_state_dict(torch.load(params_path))\n",
      "100%|██████████| 10/10 [00:34<00:00,  3.42s/it]\n"
     ]
    }
   ],
   "source": [
    "from tqdm import tqdm\n",
    "import torch\n",
    "import os\n",
    "from simulator import *\n",
    "\n",
    "params_path = './model_params.pth'\n",
    "\n",
    "\n",
    "\n",
    "learning_rate = 1e-3\n",
    "num_episodes = 1000\n",
    "hidden_dim = 32\n",
    "gamma = 0.98\n",
    "device = torch.device(\"cuda:0\") if torch.cuda.is_available() else torch.device(\n",
    "    \"cpu\")\n",
    "\n",
    "torch.manual_seed(0)\n",
    "\n",
    "agent = REINFORCE(4, hidden_dim, learning_rate, gamma,device)\n",
    "\n",
    "agent.scorenet.load_state_dict(torch.load(params_path))\n",
    "\n",
    "\n",
    "episode_return = 0\n",
    "\n",
    "env = Environment(10,1,running_day=1,start_date=datetime.datetime(2024,5,2))\n",
    "Truck.id_count = 0\n",
    "\n",
    "metric_list = []\n",
    "\n",
    "\n",
    "\n",
    "for i in tqdm(range(10)):\n",
    "    \n",
    "    env.reset()\n",
    "\n",
    "    stations_features,current_time,regu_reward,current_truck  = env.step()\n",
    "\n",
    "    # state = env.reset()\n",
    "    done = False\n",
    "    while not done:\n",
    "        \n",
    "        stations = []\n",
    "        features = []\n",
    "\n",
    "        for s,feature in stations_features.items():\n",
    "        \n",
    "            stations.append(s)\n",
    "            features.append(feature)\n",
    "        \n",
    "        action = agent.take_action_max_prob(features,len(stations))\n",
    "        \n",
    "        env.take_action(stations[action],current_truck)\n",
    "        \n",
    "        nxt_stations_features,nxt_time,regu_reward,nxt_truck  = env.step()\n",
    "        \n",
    "        \n",
    "        if nxt_stations_features == None:\n",
    "            done = True\n",
    "        \n",
    "        stations_features = nxt_stations_features\n",
    "        current_truck = nxt_truck\n",
    "        episode_return += regu_reward\n",
    "\n",
    "    metric_list.append(env.count_time_per_fang())\n",
    "    \n",
    "    \n",
    "    "
   ]
  },
  {
   "cell_type": "code",
   "execution_count": 22,
   "metadata": {},
   "outputs": [
    {
     "data": {
      "text/plain": [
       "[6.869999398423871,\n",
       " 6.869999398423871,\n",
       " 6.869999398423871,\n",
       " 6.869999398423871,\n",
       " 6.869999398423871,\n",
       " 6.869999398423871,\n",
       " 6.869999398423871,\n",
       " 6.869999398423871,\n",
       " 6.869999398423871,\n",
       " 6.869999398423871]"
      ]
     },
     "execution_count": 22,
     "metadata": {},
     "output_type": "execute_result"
    }
   ],
   "source": [
    "metric_list"
   ]
  },
  {
   "cell_type": "code",
   "execution_count": 20,
   "metadata": {},
   "outputs": [
    {
     "data": {
      "text/plain": [
       "np.float64(5.5773873662840625)"
      ]
     },
     "execution_count": 20,
     "metadata": {},
     "output_type": "execute_result"
    }
   ],
   "source": [
    "np.mean(metric_list)"
   ]
  },
  {
   "cell_type": "markdown",
   "metadata": {},
   "source": [
    "[6.682668591710281,\n",
    " 6.691090657522709,\n",
    " 6.696625157913734,\n",
    " 6.775070685195211,\n",
    " 6.76315947783192,\n",
    " 6.64464898032846,\n",
    " 6.7045659628225955,\n",
    " 6.6647416230523975,\n",
    " 6.796968056307525,\n",
    " 6.683631113517416]\n",
    "\n",
    " np.float64(6.710317030620226)"
   ]
  },
  {
   "cell_type": "code",
   "execution_count": 10,
   "metadata": {},
   "outputs": [
    {
     "data": {
      "text/plain": [
       "np.float64(5.605450144452253)"
      ]
     },
     "execution_count": 10,
     "metadata": {},
     "output_type": "execute_result"
    }
   ],
   "source": [
    "np.mean(metric_list)"
   ]
  },
  {
   "cell_type": "code",
   "execution_count": null,
   "metadata": {},
   "outputs": [],
   "source": [
    "6.708295734825242"
   ]
  }
 ],
 "metadata": {
  "kernelspec": {
   "display_name": "GCL4SR",
   "language": "python",
   "name": "python3"
  },
  "language_info": {
   "codemirror_mode": {
    "name": "ipython",
    "version": 3
   },
   "file_extension": ".py",
   "mimetype": "text/x-python",
   "name": "python",
   "nbconvert_exporter": "python",
   "pygments_lexer": "ipython3",
   "version": "3.12.4"
  }
 },
 "nbformat": 4,
 "nbformat_minor": 2
}
