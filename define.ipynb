{
 "cells": [
  {
   "cell_type": "code",
   "execution_count": null,
   "metadata": {},
   "outputs": [],
   "source": [
    "import datetime\n",
    "from typing import List\n",
    "\n",
    "\n",
    "class Order:\n",
    "    def __init__(self,oid,pid,quantity,n_need,need_time):\n",
    "       \n",
    "        self.oid = oid  # 订单编号\n",
    "        self.pid = pid # 工地（项目）编号\n",
    "        self.quantity = quantity # 方量\n",
    "        self.n_need = n_need # 需要的车数\n",
    "        self.need_time :datetime.datetime = need_time # 要求送达时间\n",
    " \n",
    "    def __repr__(self):\n",
    "        # 创建一个字符串表示，包含所有类成员\n",
    "        members = [f\"{key}: {value}\" for key, value in self.__dict__.items()]\n",
    "        return \" \".join(members)\n",
    "    \n",
    "order_list : List[Order] = []\n",
    "    \n",
    "    \n",
    "interactions = {\n",
    "    '工地1': {'厂站A': 10, '厂站B': 20},\n",
    "    '工地2': {'厂站B': 15, '厂站C': 5},\n",
    "}\n",
    "    \n",
    "\n",
    "class Dispatch:\n",
    "    def __init__(self,oid,pid,from_sid,dispatch_time,ret_sid):\n",
    "        self.oid = oid  # 负责的订单编号\n",
    "        self.pid = pid # 送往的工地（项目）编号\n",
    "        self.from_sid = from_sid # 从哪一个厂站出发\n",
    "        self.dispatch_time :datetime.datetime = dispatch_time # 派出时间（不一定是实际离开时间，因为先要在生产线上装货）\n",
    "        self.ret_sid = ret_sid # 浇筑完，要返回哪一个厂站\n",
    "        \n",
    "        \n",
    "class Station:\n",
    "    def __init__(self,sid,truck_num,line_size,coord):\n",
    "        \n",
    "        self.sid = sid # 厂站编号\n",
    "        self.truck_num = truck_num # 拥有的搅拌车数量\n",
    "        self.product_line = ProductionLine(line_size) # 生产线大小（同时可以装商砼的车辆数）\n",
    "        self.coord = coord # 厂站坐标（暂时没啥用）\n",
    "        self.predict_return_list = [] # 预计正在返回的搅拌车的剩余时间列表，每个元素是搅拌车的预计还剩多久返回，列表长度就是正在返回的搅拌车数量\n"
   ]
  }
 ],
 "metadata": {
  "language_info": {
   "name": "python"
  }
 },
 "nbformat": 4,
 "nbformat_minor": 2
}
